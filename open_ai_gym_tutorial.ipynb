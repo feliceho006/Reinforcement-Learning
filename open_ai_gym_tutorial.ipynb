{
 "cells": [
  {
   "cell_type": "code",
   "execution_count": 15,
   "metadata": {},
   "outputs": [
    {
     "name": "stdout",
     "output_type": "stream",
     "text": [
      "Requirement already satisfied: gym in /Users/caydengwee/Coding/.virtualenvs/rl-tutorial/lib/python3.8/site-packages (0.24.1)\n",
      "Requirement already satisfied: importlib-metadata>=4.8.0 in /Users/caydengwee/Coding/.virtualenvs/rl-tutorial/lib/python3.8/site-packages (from gym) (4.10.1)\n",
      "Requirement already satisfied: cloudpickle>=1.2.0 in /Users/caydengwee/Coding/.virtualenvs/rl-tutorial/lib/python3.8/site-packages (from gym) (1.6.0)\n",
      "Requirement already satisfied: gym-notices>=0.0.4 in /Users/caydengwee/Coding/.virtualenvs/rl-tutorial/lib/python3.8/site-packages (from gym) (0.0.7)\n",
      "Requirement already satisfied: numpy>=1.18.0 in /Users/caydengwee/Coding/.virtualenvs/rl-tutorial/lib/python3.8/site-packages (from gym) (1.22.2)\n",
      "Requirement already satisfied: zipp>=0.5 in /Users/caydengwee/Coding/.virtualenvs/rl-tutorial/lib/python3.8/site-packages (from importlib-metadata>=4.8.0->gym) (3.7.0)\n"
     ]
    }
   ],
   "source": [
    "!pip install -U gym"
   ]
  },
  {
   "cell_type": "code",
   "execution_count": 10,
   "metadata": {},
   "outputs": [
    {
     "name": "stderr",
     "output_type": "stream",
     "text": [
      "/Users/caydengwee/Coding/.virtualenvs/rl-tutorial/lib/python3.8/site-packages/gym/utils/passive_env_checker.py:97: UserWarning: \u001b[33mWARN: We recommend you to use a symmetric and normalized Box action space (range=[-1, 1]) https://stable-baselines3.readthedocs.io/en/master/guide/rl_tips.html\u001b[0m\n",
      "  logger.warn(\n"
     ]
    }
   ],
   "source": [
    "import gym\n",
    "env = gym.make('MountainCar-v0')"
   ]
  },
  {
   "cell_type": "markdown",
   "metadata": {},
   "source": []
  },
  {
   "cell_type": "code",
   "execution_count": 6,
   "metadata": {},
   "outputs": [
    {
     "name": "stdout",
     "output_type": "stream",
     "text": [
      "The observation space: Box([-1.2  -0.07], [0.6  0.07], (2,), float32)\n",
      "The action space: Discrete(3)\n"
     ]
    }
   ],
   "source": [
    "# Observation and action space \n",
    "obs_space = env.observation_space\n",
    "action_space = env.action_space\n",
    "print(\"The observation space: {}\".format(obs_space))\n",
    "print(\"The action space: {}\".format(action_space))"
   ]
  },
  {
   "cell_type": "code",
   "execution_count": 3,
   "metadata": {},
   "outputs": [],
   "source": [
    "env.reset()\n",
    "env.render(mode = \"human\")\n",
    "\n"
   ]
  },
  {
   "cell_type": "code",
   "execution_count": 7,
   "metadata": {},
   "outputs": [
    {
     "data": {
      "text/plain": [
       "<matplotlib.image.AxesImage at 0x172645340>"
      ]
     },
     "execution_count": 7,
     "metadata": {},
     "output_type": "execute_result"
    },
    {
     "data": {
      "image/png": "[encoded data removed]",
      "text/plain": [
       "<Figure size 432x288 with 1 Axes>"
      ]
     },
     "metadata": {
      "needs_background": "light"
     },
     "output_type": "display_data"
    }
   ],
   "source": [
    "env.reset()\n",
    "\n",
    "env_screen = env.render(mode = 'rgb_array')\n",
    "env.close()\n",
    "\n",
    "import matplotlib.pyplot as plt \n",
    "plt.imshow(env_screen)"
   ]
  },
  {
   "cell_type": "code",
   "execution_count": 13,
   "metadata": {},
   "outputs": [
    {
     "ename": "KeyboardInterrupt",
     "evalue": "",
     "output_type": "error",
     "traceback": [
      "\u001b[0;31m---------------------------------------------------------------------------\u001b[0m",
      "\u001b[0;31mKeyboardInterrupt\u001b[0m                         Traceback (most recent call last)",
      "\u001b[1;32m/Users/caydengwee/Coding/Academics/term-8/ai-project/open_ai_gym_tutorial.ipynb Cell 6'\u001b[0m in \u001b[0;36m<module>\u001b[0;34m\u001b[0m\n\u001b[1;32m     <a href='vscode-notebook-cell:/Users/caydengwee/Coding/Academics/term-8/ai-project/open_ai_gym_tutorial.ipynb#ch0000005?line=15'>16</a>\u001b[0m obs, reward, done, info \u001b[39m=\u001b[39m env\u001b[39m.\u001b[39mstep(action)\n\u001b[1;32m     <a href='vscode-notebook-cell:/Users/caydengwee/Coding/Academics/term-8/ai-project/open_ai_gym_tutorial.ipynb#ch0000005?line=17'>18</a>\u001b[0m \u001b[39m# Render the env\u001b[39;00m\n\u001b[0;32m---> <a href='vscode-notebook-cell:/Users/caydengwee/Coding/Academics/term-8/ai-project/open_ai_gym_tutorial.ipynb#ch0000005?line=18'>19</a>\u001b[0m env\u001b[39m.\u001b[39;49mrender()\n\u001b[1;32m     <a href='vscode-notebook-cell:/Users/caydengwee/Coding/Academics/term-8/ai-project/open_ai_gym_tutorial.ipynb#ch0000005?line=20'>21</a>\u001b[0m \u001b[39m# Wait a bit before the next frame unless you want to see a crazy fast video\u001b[39;00m\n\u001b[1;32m     <a href='vscode-notebook-cell:/Users/caydengwee/Coding/Academics/term-8/ai-project/open_ai_gym_tutorial.ipynb#ch0000005?line=21'>22</a>\u001b[0m \u001b[39m# time.sleep(0.001)\u001b[39;00m\n\u001b[1;32m     <a href='vscode-notebook-cell:/Users/caydengwee/Coding/Academics/term-8/ai-project/open_ai_gym_tutorial.ipynb#ch0000005?line=22'>23</a>\u001b[0m \n\u001b[1;32m     <a href='vscode-notebook-cell:/Users/caydengwee/Coding/Academics/term-8/ai-project/open_ai_gym_tutorial.ipynb#ch0000005?line=23'>24</a>\u001b[0m \u001b[39m# If the epsiode is up, then start another one\u001b[39;00m\n\u001b[1;32m     <a href='vscode-notebook-cell:/Users/caydengwee/Coding/Academics/term-8/ai-project/open_ai_gym_tutorial.ipynb#ch0000005?line=24'>25</a>\u001b[0m \u001b[39mif\u001b[39;00m done:\n",
      "File \u001b[0;32m~/Coding/.virtualenvs/rl-tutorial/lib/python3.8/site-packages/gym/core.py:343\u001b[0m, in \u001b[0;36mWrapper.render\u001b[0;34m(self, **kwargs)\u001b[0m\n\u001b[1;32m    341\u001b[0m \u001b[39mdef\u001b[39;00m \u001b[39mrender\u001b[39m(\u001b[39mself\u001b[39m, \u001b[39m*\u001b[39m\u001b[39m*\u001b[39mkwargs):\n\u001b[1;32m    342\u001b[0m     \u001b[39m\"\"\"Renders the environment with kwargs.\"\"\"\u001b[39;00m\n\u001b[0;32m--> 343\u001b[0m     \u001b[39mreturn\u001b[39;00m \u001b[39mself\u001b[39;49m\u001b[39m.\u001b[39;49menv\u001b[39m.\u001b[39;49mrender(\u001b[39m*\u001b[39;49m\u001b[39m*\u001b[39;49mkwargs)\n",
      "File \u001b[0;32m~/Coding/.virtualenvs/rl-tutorial/lib/python3.8/site-packages/gym/wrappers/order_enforcing.py:51\u001b[0m, in \u001b[0;36mOrderEnforcing.render\u001b[0;34m(self, **kwargs)\u001b[0m\n\u001b[1;32m     46\u001b[0m \u001b[39mif\u001b[39;00m \u001b[39mnot\u001b[39;00m \u001b[39mself\u001b[39m\u001b[39m.\u001b[39m_disable_render_order_enforcing \u001b[39mand\u001b[39;00m \u001b[39mnot\u001b[39;00m \u001b[39mself\u001b[39m\u001b[39m.\u001b[39m_has_reset:\n\u001b[1;32m     47\u001b[0m     \u001b[39mraise\u001b[39;00m ResetNeeded(\n\u001b[1;32m     48\u001b[0m         \u001b[39m\"\u001b[39m\u001b[39mCannot call `env.render()` before calling `env.reset()`, if this is a intended action, \u001b[39m\u001b[39m\"\u001b[39m\n\u001b[1;32m     49\u001b[0m         \u001b[39m\"\u001b[39m\u001b[39mset `disable_render_order_enforcing=True` on the OrderEnforcer wrapper.\u001b[39m\u001b[39m\"\u001b[39m\n\u001b[1;32m     50\u001b[0m     )\n\u001b[0;32m---> 51\u001b[0m \u001b[39mreturn\u001b[39;00m \u001b[39mself\u001b[39;49m\u001b[39m.\u001b[39;49menv\u001b[39m.\u001b[39;49mrender(\u001b[39m*\u001b[39;49m\u001b[39m*\u001b[39;49mkwargs)\n",
      "File \u001b[0;32m~/Coding/.virtualenvs/rl-tutorial/lib/python3.8/site-packages/gym/wrappers/env_checker.py:57\u001b[0m, in \u001b[0;36mPassiveEnvChecker.render\u001b[0;34m(self, **kwargs)\u001b[0m\n\u001b[1;32m     55\u001b[0m     \u001b[39mreturn\u001b[39;00m passive_env_render_check(\u001b[39mself\u001b[39m\u001b[39m.\u001b[39menv, \u001b[39m*\u001b[39m\u001b[39m*\u001b[39mkwargs)\n\u001b[1;32m     56\u001b[0m \u001b[39melse\u001b[39;00m:\n\u001b[0;32m---> 57\u001b[0m     \u001b[39mreturn\u001b[39;00m \u001b[39mself\u001b[39;49m\u001b[39m.\u001b[39;49menv\u001b[39m.\u001b[39;49mrender(\u001b[39m*\u001b[39;49m\u001b[39m*\u001b[39;49mkwargs)\n",
      "File \u001b[0;32m~/Coding/.virtualenvs/rl-tutorial/lib/python3.8/site-packages/gym/envs/classic_control/mountain_car.py:240\u001b[0m, in \u001b[0;36mMountainCarEnv.render\u001b[0;34m(self, mode)\u001b[0m\n\u001b[1;32m    238\u001b[0m     pygame\u001b[39m.\u001b[39mevent\u001b[39m.\u001b[39mpump()\n\u001b[1;32m    239\u001b[0m     \u001b[39mself\u001b[39m\u001b[39m.\u001b[39mclock\u001b[39m.\u001b[39mtick(\u001b[39mself\u001b[39m\u001b[39m.\u001b[39mmetadata[\u001b[39m\"\u001b[39m\u001b[39mrender_fps\u001b[39m\u001b[39m\"\u001b[39m])\n\u001b[0;32m--> 240\u001b[0m     pygame\u001b[39m.\u001b[39;49mdisplay\u001b[39m.\u001b[39;49mflip()\n\u001b[1;32m    242\u001b[0m \u001b[39mif\u001b[39;00m mode \u001b[39m==\u001b[39m \u001b[39m\"\u001b[39m\u001b[39mrgb_array\u001b[39m\u001b[39m\"\u001b[39m:\n\u001b[1;32m    243\u001b[0m     \u001b[39mreturn\u001b[39;00m np\u001b[39m.\u001b[39mtranspose(\n\u001b[1;32m    244\u001b[0m         np\u001b[39m.\u001b[39marray(pygame\u001b[39m.\u001b[39msurfarray\u001b[39m.\u001b[39mpixels3d(\u001b[39mself\u001b[39m\u001b[39m.\u001b[39mscreen)), axes\u001b[39m=\u001b[39m(\u001b[39m1\u001b[39m, \u001b[39m0\u001b[39m, \u001b[39m2\u001b[39m)\n\u001b[1;32m    245\u001b[0m     )\n",
      "\u001b[0;31mKeyboardInterrupt\u001b[0m: "
     ]
    }
   ],
   "source": [
    "import time \n",
    "\n",
    "# env.render(mode = \"human\")\n",
    "\n",
    "# Number of steps you run the agent for \n",
    "num_steps = 1500\n",
    "\n",
    "obs = env.reset()\n",
    "\n",
    "for step in range(num_steps):\n",
    "    # take random action, but you can also do something more intelligent\n",
    "    # action = my_intelligent_agent_fn(obs) \n",
    "    action = env.action_space.sample()\n",
    "    \n",
    "    # apply the action\n",
    "    obs, reward, done, info = env.step(action)\n",
    "    \n",
    "    # Render the env\n",
    "    env.render()\n",
    "\n",
    "    # Wait a bit before the next frame unless you want to see a crazy fast video\n",
    "    # time.sleep(0.001)\n",
    "    \n",
    "    # If the epsiode is up, then start another one\n",
    "    if done:\n",
    "        env.reset()\n",
    "\n",
    "# Close the env\n",
    "env.close()"
   ]
  },
  {
   "cell_type": "code",
   "execution_count": 1,
   "metadata": {},
   "outputs": [
    {
     "name": "stdout",
     "output_type": "stream",
     "text": [
      "Requirement already satisfied: pip in /Users/caydengwee/Coding/.virtualenvs/rl-tutorial/lib/python3.8/site-packages (22.1.2)\n",
      "Requirement already satisfied: setuptools in /Users/caydengwee/Coding/.virtualenvs/rl-tutorial/lib/python3.8/site-packages (63.1.0)\n",
      "Requirement already satisfied: wheel in /Users/caydengwee/Coding/.virtualenvs/rl-tutorial/lib/python3.8/site-packages (0.37.1)\n",
      "Requirement already satisfied: opencv-python in /Users/caydengwee/Coding/.virtualenvs/rl-tutorial/lib/python3.8/site-packages (4.5.5.62)\n",
      "Requirement already satisfied: numpy>=1.17.3 in /Users/caydengwee/Coding/.virtualenvs/rl-tutorial/lib/python3.8/site-packages (from opencv-python) (1.22.2)\n",
      "Requirement already satisfied: gym[atari] in /Users/caydengwee/Coding/.virtualenvs/rl-tutorial/lib/python3.8/site-packages (0.24.1)\n",
      "Requirement already satisfied: numpy>=1.18.0 in /Users/caydengwee/Coding/.virtualenvs/rl-tutorial/lib/python3.8/site-packages (from gym[atari]) (1.22.2)\n",
      "Requirement already satisfied: importlib-metadata>=4.8.0 in /Users/caydengwee/Coding/.virtualenvs/rl-tutorial/lib/python3.8/site-packages (from gym[atari]) (4.10.1)\n",
      "Requirement already satisfied: cloudpickle>=1.2.0 in /Users/caydengwee/Coding/.virtualenvs/rl-tutorial/lib/python3.8/site-packages (from gym[atari]) (1.6.0)\n",
      "Requirement already satisfied: gym-notices>=0.0.4 in /Users/caydengwee/Coding/.virtualenvs/rl-tutorial/lib/python3.8/site-packages (from gym[atari]) (0.0.7)\n",
      "Requirement already satisfied: ale-py~=0.7.5 in /Users/caydengwee/Coding/.virtualenvs/rl-tutorial/lib/python3.8/site-packages (from gym[atari]) (0.7.5)\n",
      "Requirement already satisfied: importlib-resources in /Users/caydengwee/Coding/.virtualenvs/rl-tutorial/lib/python3.8/site-packages (from ale-py~=0.7.5->gym[atari]) (5.4.0)\n",
      "Requirement already satisfied: zipp>=0.5 in /Users/caydengwee/Coding/.virtualenvs/rl-tutorial/lib/python3.8/site-packages (from importlib-metadata>=4.8.0->gym[atari]) (3.7.0)\n",
      "Requirement already satisfied: autorom[accept-rom-license] in /Users/caydengwee/Coding/.virtualenvs/rl-tutorial/lib/python3.8/site-packages (0.4.2)\n",
      "Requirement already satisfied: tqdm in /Users/caydengwee/Coding/.virtualenvs/rl-tutorial/lib/python3.8/site-packages (from autorom[accept-rom-license]) (4.64.0)\n",
      "Requirement already satisfied: requests in /Users/caydengwee/Coding/.virtualenvs/rl-tutorial/lib/python3.8/site-packages (from autorom[accept-rom-license]) (2.27.1)\n",
      "Requirement already satisfied: importlib-resources in /Users/caydengwee/Coding/.virtualenvs/rl-tutorial/lib/python3.8/site-packages (from autorom[accept-rom-license]) (5.4.0)\n",
      "Requirement already satisfied: click in /Users/caydengwee/Coding/.virtualenvs/rl-tutorial/lib/python3.8/site-packages (from autorom[accept-rom-license]) (8.0.3)\n",
      "Requirement already satisfied: AutoROM.accept-rom-license in /Users/caydengwee/Coding/.virtualenvs/rl-tutorial/lib/python3.8/site-packages (from autorom[accept-rom-license]) (0.4.2)\n",
      "Requirement already satisfied: zipp>=3.1.0 in /Users/caydengwee/Coding/.virtualenvs/rl-tutorial/lib/python3.8/site-packages (from importlib-resources->autorom[accept-rom-license]) (3.7.0)\n",
      "Requirement already satisfied: certifi>=2017.4.17 in /Users/caydengwee/Coding/.virtualenvs/rl-tutorial/lib/python3.8/site-packages (from requests->autorom[accept-rom-license]) (2021.10.8)\n",
      "Requirement already satisfied: urllib3<1.27,>=1.21.1 in /Users/caydengwee/Coding/.virtualenvs/rl-tutorial/lib/python3.8/site-packages (from requests->autorom[accept-rom-license]) (1.26.8)\n",
      "Requirement already satisfied: idna<4,>=2.5 in /Users/caydengwee/Coding/.virtualenvs/rl-tutorial/lib/python3.8/site-packages (from requests->autorom[accept-rom-license]) (3.3)\n",
      "Requirement already satisfied: charset-normalizer~=2.0.0 in /Users/caydengwee/Coding/.virtualenvs/rl-tutorial/lib/python3.8/site-packages (from requests->autorom[accept-rom-license]) (2.0.11)\n",
      "Requirement already satisfied: ale-py in /Users/caydengwee/Coding/.virtualenvs/rl-tutorial/lib/python3.8/site-packages (0.7.5)\n",
      "Requirement already satisfied: importlib-resources in /Users/caydengwee/Coding/.virtualenvs/rl-tutorial/lib/python3.8/site-packages (from ale-py) (5.4.0)\n",
      "Requirement already satisfied: importlib-metadata>=4.10.0 in /Users/caydengwee/Coding/.virtualenvs/rl-tutorial/lib/python3.8/site-packages (from ale-py) (4.10.1)\n",
      "Requirement already satisfied: numpy in /Users/caydengwee/Coding/.virtualenvs/rl-tutorial/lib/python3.8/site-packages (from ale-py) (1.22.2)\n",
      "Requirement already satisfied: zipp>=0.5 in /Users/caydengwee/Coding/.virtualenvs/rl-tutorial/lib/python3.8/site-packages (from importlib-metadata>=4.10.0->ale-py) (3.7.0)\n"
     ]
    }
   ],
   "source": [
    "!pip install --upgrade pip setuptools wheel\n",
    "!pip install opencv-python\n",
    "!pip install gym\\[atari\\]\n",
    "!pip install autorom\\[accept-rom-license\\]\n",
    "!pip install ale-py\n",
    "\n"
   ]
  },
  {
   "cell_type": "code",
   "execution_count": 22,
   "metadata": {},
   "outputs": [
    {
     "name": "stdout",
     "output_type": "stream",
     "text": [
      "Requirement already satisfied: autorom[accept-rom-license] in /Users/caydengwee/Coding/.virtualenvs/rl-tutorial/lib/python3.8/site-packages (0.4.2)\n",
      "Requirement already satisfied: click in /Users/caydengwee/Coding/.virtualenvs/rl-tutorial/lib/python3.8/site-packages (from autorom[accept-rom-license]) (8.0.3)\n",
      "Requirement already satisfied: importlib-resources in /Users/caydengwee/Coding/.virtualenvs/rl-tutorial/lib/python3.8/site-packages (from autorom[accept-rom-license]) (5.4.0)\n",
      "Requirement already satisfied: tqdm in /Users/caydengwee/Coding/.virtualenvs/rl-tutorial/lib/python3.8/site-packages (from autorom[accept-rom-license]) (4.64.0)\n",
      "Requirement already satisfied: requests in /Users/caydengwee/Coding/.virtualenvs/rl-tutorial/lib/python3.8/site-packages (from autorom[accept-rom-license]) (2.27.1)\n",
      "Requirement already satisfied: AutoROM.accept-rom-license in /Users/caydengwee/Coding/.virtualenvs/rl-tutorial/lib/python3.8/site-packages (from autorom[accept-rom-license]) (0.4.2)\n",
      "Requirement already satisfied: zipp>=3.1.0 in /Users/caydengwee/Coding/.virtualenvs/rl-tutorial/lib/python3.8/site-packages (from importlib-resources->autorom[accept-rom-license]) (3.7.0)\n",
      "Requirement already satisfied: charset-normalizer~=2.0.0 in /Users/caydengwee/Coding/.virtualenvs/rl-tutorial/lib/python3.8/site-packages (from requests->autorom[accept-rom-license]) (2.0.11)\n",
      "Requirement already satisfied: idna<4,>=2.5 in /Users/caydengwee/Coding/.virtualenvs/rl-tutorial/lib/python3.8/site-packages (from requests->autorom[accept-rom-license]) (3.3)\n",
      "Requirement already satisfied: certifi>=2017.4.17 in /Users/caydengwee/Coding/.virtualenvs/rl-tutorial/lib/python3.8/site-packages (from requests->autorom[accept-rom-license]) (2021.10.8)\n",
      "Requirement already satisfied: urllib3<1.27,>=1.21.1 in /Users/caydengwee/Coding/.virtualenvs/rl-tutorial/lib/python3.8/site-packages (from requests->autorom[accept-rom-license]) (1.26.8)\n",
      "Requirement already satisfied: ale-py in /Users/caydengwee/Coding/.virtualenvs/rl-tutorial/lib/python3.8/site-packages (0.7.5)\n",
      "Requirement already satisfied: importlib-metadata>=4.10.0 in /Users/caydengwee/Coding/.virtualenvs/rl-tutorial/lib/python3.8/site-packages (from ale-py) (4.10.1)\n",
      "Requirement already satisfied: importlib-resources in /Users/caydengwee/Coding/.virtualenvs/rl-tutorial/lib/python3.8/site-packages (from ale-py) (5.4.0)\n",
      "Requirement already satisfied: numpy in /Users/caydengwee/Coding/.virtualenvs/rl-tutorial/lib/python3.8/site-packages (from ale-py) (1.22.2)\n",
      "Requirement already satisfied: zipp>=0.5 in /Users/caydengwee/Coding/.virtualenvs/rl-tutorial/lib/python3.8/site-packages (from importlib-metadata>=4.10.0->ale-py) (3.7.0)\n"
     ]
    }
   ],
   "source": []
  },
  {
   "cell_type": "code",
   "execution_count": 2,
   "metadata": {},
   "outputs": [
    {
     "name": "stdout",
     "output_type": "stream",
     "text": [
      "Observation Space:  Box(0, 255, (210, 160, 3), uint8)\n",
      "Action Space        Discrete(4)\n",
      "done..??\n"
     ]
    }
   ],
   "source": [
    "import gym\n",
    "import time \n",
    "env = gym.make(\"ALE/Breakout-v5\" , render_mode=\"human\")\n",
    "\n",
    "print(\"Observation Space: \", env.observation_space)\n",
    "print(\"Action Space       \", env.action_space)\n",
    "\n",
    "\n",
    "obs = env.reset()\n",
    "\n",
    "for i in range(1000):\n",
    "    action = env.action_space.sample()\n",
    "    obs, reward, done, info = env.step(action)\n",
    "    # env.render()\n",
    "    time.sleep(0.01)\n",
    "print(\"done..??\")\n",
    "env.close()"
   ]
  },
  {
   "cell_type": "code",
   "execution_count": 4,
   "metadata": {},
   "outputs": [],
   "source": [
    "from collections import deque\n",
    "from gym import spaces\n",
    "import numpy as np\n",
    "\n",
    "class ConcatObs(gym.Wrapper):\n",
    "    def __init__(self, env, k):\n",
    "        gym.Wrapper.__init__(self, env)\n",
    "        self.k = k\n",
    "        self.frames = deque([], maxlen=k)\n",
    "        shp = env.observation_space.shape\n",
    "        self.observation_space = \\\n",
    "            spaces.Box(low=0, high=255, shape=((k,) + shp), dtype=env.observation_space.dtype)\n",
    "\n",
    "\n",
    "    def reset(self):\n",
    "        ob = self.env.reset()\n",
    "        for _ in range(self.k):\n",
    "            self.frames.append(ob)\n",
    "        return self._get_ob()\n",
    "\n",
    "    def step(self, action):\n",
    "        ob, reward, done, info = self.env.step(action)\n",
    "        self.frames.append(ob)\n",
    "        return self._get_ob(), reward, done, info\n",
    "\n",
    "    def _get_ob(self):\n",
    "        return np.array(self.frames)"
   ]
  },
  {
   "cell_type": "code",
   "execution_count": 5,
   "metadata": {},
   "outputs": [
    {
     "name": "stdout",
     "output_type": "stream",
     "text": [
      "The new observation space is Box(0, 255, (4, 210, 160, 3), uint8)\n"
     ]
    },
    {
     "name": "stderr",
     "output_type": "stream",
     "text": [
      "/Users/caydengwee/Coding/.virtualenvs/rl-tutorial/lib/python3.8/site-packages/gym/utils/passive_env_checker.py:97: UserWarning: \u001b[33mWARN: We recommend you to use a symmetric and normalized Box action space (range=[-1, 1]) https://stable-baselines3.readthedocs.io/en/master/guide/rl_tips.html\u001b[0m\n",
      "  logger.warn(\n"
     ]
    }
   ],
   "source": [
    "env = gym.make(\"BreakoutNoFrameskip-v4\", render_mode=\"human\")\n",
    "wrapped_env = ConcatObs(env, 4)\n",
    "print(\"The new observation space is\", wrapped_env.observation_space)"
   ]
  },
  {
   "cell_type": "code",
   "execution_count": 6,
   "metadata": {},
   "outputs": [
    {
     "name": "stdout",
     "output_type": "stream",
     "text": [
      "Intial obs is of the shape (4, 210, 160, 3)\n",
      "Obs after taking a step is (4, 210, 160, 3)\n"
     ]
    }
   ],
   "source": [
    "# Reset the Env\n",
    "obs = wrapped_env.reset()\n",
    "print(\"Intial obs is of the shape\", obs.shape)\n",
    "\n",
    "# Take one step\n",
    "obs, _, _, _  = wrapped_env.step(2)\n",
    "print(\"Obs after taking a step is\", obs.shape)"
   ]
  },
  {
   "cell_type": "code",
   "execution_count": 7,
   "metadata": {},
   "outputs": [],
   "source": [
    "import random \n",
    "\n",
    "class ObservationWrapper(gym.ObservationWrapper):\n",
    "    def __init__(self, env):\n",
    "        super().__init__(env)\n",
    "    \n",
    "    def observation(self, obs):\n",
    "        # Normalise observation by 255\n",
    "        return obs / 255.0\n",
    "\n",
    "class RewardWrapper(gym.RewardWrapper):\n",
    "    def __init__(self, env):\n",
    "        super().__init__(env)\n",
    "    \n",
    "    def reward(self, reward):\n",
    "        # Clip reward between 0 to 1\n",
    "        return np.clip(reward, 0, 1)\n",
    "    \n",
    "class ActionWrapper(gym.ActionWrapper):\n",
    "    def __init__(self, env):\n",
    "        super().__init__(env)\n",
    "    \n",
    "    def action(self, action):\n",
    "        if action == 3:\n",
    "            return random.choice([0,1,2])\n",
    "        else:\n",
    "            return action"
   ]
  },
  {
   "cell_type": "code",
   "execution_count": 8,
   "metadata": {},
   "outputs": [
    {
     "name": "stderr",
     "output_type": "stream",
     "text": [
      "/Users/caydengwee/Coding/.virtualenvs/rl-tutorial/lib/python3.8/site-packages/gym/utils/passive_env_checker.py:97: UserWarning: \u001b[33mWARN: We recommend you to use a symmetric and normalized Box action space (range=[-1, 1]) https://stable-baselines3.readthedocs.io/en/master/guide/rl_tips.html\u001b[0m\n",
      "  logger.warn(\n"
     ]
    },
    {
     "name": "stdout",
     "output_type": "stream",
     "text": [
      "All checks passed\n"
     ]
    }
   ],
   "source": [
    "env = gym.make(\"BreakoutNoFrameskip-v4\", render_mode=\"human\")\n",
    "wrapped_env = ObservationWrapper(RewardWrapper(ActionWrapper(env)))\n",
    "\n",
    "obs = wrapped_env.reset()\n",
    "\n",
    "for step in range(500):\n",
    "    action = wrapped_env.action_space.sample()\n",
    "    obs, reward, done, info = wrapped_env.step(action)\n",
    "    \n",
    "    # Raise a flag if values have not been vectorised properly\n",
    "    if (obs > 1.0).any() or (obs < 0.0).any():\n",
    "        print(\"Max and min value of observations out of range\")\n",
    "    \n",
    "    # Raise a flag if reward has not been clipped.\n",
    "    if reward < 0.0 or reward > 1.0:\n",
    "        assert False, \"Reward out of bounds\"\n",
    "    \n",
    "    # Check the rendering if the slider moves to the left.\n",
    "    # wrapped_env.render()\n",
    "    \n",
    "    time.sleep(0.001)\n",
    "\n",
    "wrapped_env.close()\n",
    "\n",
    "print(\"All checks passed\")"
   ]
  },
  {
   "cell_type": "code",
   "execution_count": 9,
   "metadata": {},
   "outputs": [
    {
     "name": "stdout",
     "output_type": "stream",
     "text": [
      "Wrapped Env: <ObservationWrapper<RewardWrapper<ActionWrapper<TimeLimit<OrderEnforcing<PassiveEnvChecker<AtariEnv<BreakoutNoFrameskip-v4>>>>>>>>\n",
      "Unwrapped Env <AtariEnv<BreakoutNoFrameskip-v4>>\n",
      "Getting the meaning of actions ['NOOP', 'FIRE', 'RIGHT', 'LEFT']\n"
     ]
    }
   ],
   "source": [
    "print(\"Wrapped Env:\", wrapped_env)\n",
    "print(\"Unwrapped Env\", wrapped_env.unwrapped)\n",
    "print(\"Getting the meaning of actions\", wrapped_env.unwrapped.get_action_meanings())"
   ]
  },
  {
   "cell_type": "code",
   "execution_count": 1,
   "metadata": {},
   "outputs": [
    {
     "name": "stdout",
     "output_type": "stream",
     "text": [
      "hello\n"
     ]
    }
   ],
   "source": []
  },
  {
   "cell_type": "markdown",
   "metadata": {},
   "source": [
    "# Installing Baselines"
   ]
  },
  {
   "cell_type": "code",
   "execution_count": 8,
   "metadata": {},
   "outputs": [
    {
     "name": "stdout",
     "output_type": "stream",
     "text": [
      "fatal: destination path 'baselines' already exists and is not an empty directory.\n",
      "Obtaining file:///Users/caydengwee/Coding/Academics/term-8/ai-project\n",
      "\u001b[31mERROR: file:///Users/caydengwee/Coding/Academics/term-8/ai-project does not appear to be a Python project: neither 'setup.py' nor 'pyproject.toml' found.\u001b[0m\u001b[31m\n",
      "\u001b[0m"
     ]
    }
   ],
   "source": [
    "!git clone https://github.com/openai/baselines\n",
    "\n",
    "# !pip install -r requirements.txt\n"
   ]
  },
  {
   "cell_type": "code",
   "execution_count": 14,
   "metadata": {},
   "outputs": [
    {
     "name": "stdout",
     "output_type": "stream",
     "text": [
      "/Users/caydengwee/Coding/Academics/term-8/ai-project\n",
      "Obtaining file:///Users/caydengwee/Coding/Academics/term-8/ai-project/baselines\n",
      "  Preparing metadata (setup.py) ... \u001b[?25lerror\n",
      "  \u001b[1;31merror\u001b[0m: \u001b[1msubprocess-exited-with-error\u001b[0m\n",
      "  \n",
      "  \u001b[31m×\u001b[0m \u001b[32mpython setup.py egg_info\u001b[0m did not run successfully.\n",
      "  \u001b[31m│\u001b[0m exit code: \u001b[1;36m1\u001b[0m\n",
      "  \u001b[31m╰─>\u001b[0m \u001b[31m[16 lines of output]\u001b[0m\n",
      "  \u001b[31m   \u001b[0m running egg_info\n",
      "  \u001b[31m   \u001b[0m creating /private/var/folders/fs/_7tjrf4s5738mf0qpvn137sm0000gn/T/pip-pip-egg-info-quaoxtyd/baselines.egg-info\n",
      "  \u001b[31m   \u001b[0m writing /private/var/folders/fs/_7tjrf4s5738mf0qpvn137sm0000gn/T/pip-pip-egg-info-quaoxtyd/baselines.egg-info/PKG-INFO\n",
      "  \u001b[31m   \u001b[0m writing dependency_links to /private/var/folders/fs/_7tjrf4s5738mf0qpvn137sm0000gn/T/pip-pip-egg-info-quaoxtyd/baselines.egg-info/dependency_links.txt\n",
      "  \u001b[31m   \u001b[0m writing requirements to /private/var/folders/fs/_7tjrf4s5738mf0qpvn137sm0000gn/T/pip-pip-egg-info-quaoxtyd/baselines.egg-info/requires.txt\n",
      "  \u001b[31m   \u001b[0m writing top-level names to /private/var/folders/fs/_7tjrf4s5738mf0qpvn137sm0000gn/T/pip-pip-egg-info-quaoxtyd/baselines.egg-info/top_level.txt\n",
      "  \u001b[31m   \u001b[0m writing manifest file '/private/var/folders/fs/_7tjrf4s5738mf0qpvn137sm0000gn/T/pip-pip-egg-info-quaoxtyd/baselines.egg-info/SOURCES.txt'\n",
      "  \u001b[31m   \u001b[0m reading manifest file '/private/var/folders/fs/_7tjrf4s5738mf0qpvn137sm0000gn/T/pip-pip-egg-info-quaoxtyd/baselines.egg-info/SOURCES.txt'\n",
      "  \u001b[31m   \u001b[0m adding license file 'LICENSE'\n",
      "  \u001b[31m   \u001b[0m writing manifest file '/private/var/folders/fs/_7tjrf4s5738mf0qpvn137sm0000gn/T/pip-pip-egg-info-quaoxtyd/baselines.egg-info/SOURCES.txt'\n",
      "  \u001b[31m   \u001b[0m Traceback (most recent call last):\n",
      "  \u001b[31m   \u001b[0m   File \"<string>\", line 2, in <module>\n",
      "  \u001b[31m   \u001b[0m   File \"<pip-setuptools-caller>\", line 34, in <module>\n",
      "  \u001b[31m   \u001b[0m   File \"/Users/caydengwee/Coding/Academics/term-8/ai-project/baselines/setup.py\", line 58, in <module>\n",
      "  \u001b[31m   \u001b[0m     assert tf_pkg is not None, 'TensorFlow needed, of version above 1.4'\n",
      "  \u001b[31m   \u001b[0m AssertionError: TensorFlow needed, of version above 1.4\n",
      "  \u001b[31m   \u001b[0m \u001b[31m[end of output]\u001b[0m\n",
      "  \n",
      "  \u001b[1;35mnote\u001b[0m: This error originates from a subprocess, and is likely not a problem with pip.\n",
      "\u001b[?25h\u001b[1;31merror\u001b[0m: \u001b[1mmetadata-generation-failed\u001b[0m\n",
      "\n",
      "\u001b[31m×\u001b[0m Encountered error while generating package metadata.\n",
      "\u001b[31m╰─>\u001b[0m See above for output.\n",
      "\n",
      "\u001b[1;35mnote\u001b[0m: This is an issue with the package mentioned above, not pip.\n",
      "\u001b[1;36mhint\u001b[0m: See above for details.\n",
      "/Users/caydengwee/Coding/Academics/term-8/ai-project\n"
     ]
    }
   ],
   "source": [
    "!pwd\n",
    "!cd baselines;pip install -e .\n",
    "!pwd\n"
   ]
  },
  {
   "cell_type": "code",
   "execution_count": null,
   "metadata": {},
   "outputs": [],
   "source": []
  },
  {
   "cell_type": "code",
   "execution_count": null,
   "metadata": {},
   "outputs": [],
   "source": []
  }
 ],
 "metadata": {
  "kernelspec": {
   "display_name": "Python 3.8.9 ('rl-tutorial')",
   "language": "python",
   "name": "python3"
  },
  "language_info": {
   "codemirror_mode": {
    "name": "ipython",
    "version": 3
   },
   "file_extension": ".py",
   "mimetype": "text/x-python",
   "name": "python",
   "nbconvert_exporter": "python",
   "pygments_lexer": "ipython3",
   "version": "3.8.9"
  },
  "orig_nbformat": 4,
  "vscode": {
   "interpreter": {
    "hash": "c19fc06454f64921cb2d8b7ffc90265522756b29ee01f72d99d03fa995c639e7"
   }
  }
 },
 "nbformat": 4,
 "nbformat_minor": 2
}
