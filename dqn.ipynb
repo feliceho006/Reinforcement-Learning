{
  "cells": [
    {
      "cell_type": "markdown",
      "id": "1150ab91",
      "metadata": {
        "id": "1150ab91"
      },
      "source": [
        "# 1. Installing and Importing Dependencies"
      ]
    },
    {
      "cell_type": "code",
      "execution_count": null,
      "id": "fcec8f16",
      "metadata": {
        "id": "fcec8f16"
      },
      "outputs": [],
      "source": [
        "# !pip install pyglet"
      ]
    },
    {
      "cell_type": "code",
      "execution_count": null,
      "id": "w-ssMnFLwBGL",
      "metadata": {
        "colab": {
          "base_uri": "https://localhost:8080/"
        },
        "id": "w-ssMnFLwBGL",
        "outputId": "1116ea8e-f2bf-4008-dd2e-45d695352add"
      },
      "outputs": [
        {
          "name": "stdout",
          "output_type": "stream",
          "text": [
            "Looking in indexes: https://pypi.org/simple, https://us-python.pkg.dev/colab-wheels/public/simple/\n",
            "Requirement already satisfied: gym[box2d] in /usr/local/lib/python3.7/dist-packages (0.21.0)\n",
            "Requirement already satisfied: importlib-metadata>=4.8.1 in /usr/local/lib/python3.7/dist-packages (from gym[box2d]) (4.12.0)\n",
            "Requirement already satisfied: cloudpickle>=1.2.0 in /usr/local/lib/python3.7/dist-packages (from gym[box2d]) (1.3.0)\n",
            "Requirement already satisfied: numpy>=1.18.0 in /usr/local/lib/python3.7/dist-packages (from gym[box2d]) (1.21.6)\n",
            "Requirement already satisfied: box2d-py==2.3.5 in /usr/local/lib/python3.7/dist-packages (from gym[box2d]) (2.3.5)\n",
            "Requirement already satisfied: pyglet>=1.4.0 in /usr/local/lib/python3.7/dist-packages (from gym[box2d]) (1.5.0)\n",
            "Requirement already satisfied: zipp>=0.5 in /usr/local/lib/python3.7/dist-packages (from importlib-metadata>=4.8.1->gym[box2d]) (3.8.1)\n",
            "Requirement already satisfied: typing-extensions>=3.6.4 in /usr/local/lib/python3.7/dist-packages (from importlib-metadata>=4.8.1->gym[box2d]) (4.1.1)\n",
            "Requirement already satisfied: future in /usr/local/lib/python3.7/dist-packages (from pyglet>=1.4.0->gym[box2d]) (0.16.0)\n"
          ]
        }
      ],
      "source": [
        "!pip install gym[box2d]"
      ]
    },
    {
      "cell_type": "code",
      "execution_count": null,
      "id": "_6Aa4QYcHJyg",
      "metadata": {
        "colab": {
          "base_uri": "https://localhost:8080/"
        },
        "id": "_6Aa4QYcHJyg",
        "outputId": "264b87a2-d51a-423a-8134-67339ce9a412"
      },
      "outputs": [
        {
          "name": "stdout",
          "output_type": "stream",
          "text": [
            "Looking in indexes: https://pypi.org/simple, https://us-python.pkg.dev/colab-wheels/public/simple/\n",
            "Requirement already satisfied: pygame in /usr/local/lib/python3.7/dist-packages (2.1.0)\n"
          ]
        }
      ],
      "source": [
        "!pip install pygame "
      ]
    },
    {
      "cell_type": "code",
      "execution_count": null,
      "id": "PalfR1STod9l",
      "metadata": {
        "id": "PalfR1STod9l"
      },
      "outputs": [],
      "source": [
        "!apt-get install x11-utils > /dev/null 2>&1 \n",
        "!pip install pyglet > /dev/null 2>&1 \n",
        "!apt-get install -y xvfb python-opengl > /dev/null 2>&1"
      ]
    },
    {
      "cell_type": "code",
      "execution_count": null,
      "id": "5VGE6xRoohpp",
      "metadata": {
        "id": "5VGE6xRoohpp"
      },
      "outputs": [],
      "source": [
        "!pip install gym pyvirtualdisplay > /dev/null 2>&1"
      ]
    },
    {
      "cell_type": "code",
      "execution_count": null,
      "id": "cK1cqZp6NQd_",
      "metadata": {
        "colab": {
          "base_uri": "https://localhost:8080/"
        },
        "id": "cK1cqZp6NQd_",
        "outputId": "e98566e3-f335-46b1-a23e-edaa03e8b8db"
      },
      "outputs": [
        {
          "name": "stdout",
          "output_type": "stream",
          "text": [
            "Looking in indexes: https://pypi.org/simple, https://us-python.pkg.dev/colab-wheels/public/simple/\n",
            "Collecting stable-baselines3[extra]\n",
            "  Cloning https://github.com/DLR-RM/stable-baselines3 to /tmp/pip-install-kya4po5j/stable-baselines3_1c10614c9c984f5d97b4e52f6a1948d5\n",
            "  Running command git clone -q https://github.com/DLR-RM/stable-baselines3 /tmp/pip-install-kya4po5j/stable-baselines3_1c10614c9c984f5d97b4e52f6a1948d5\n",
            "Requirement already satisfied: gym==0.21 in /usr/local/lib/python3.7/dist-packages (from stable-baselines3[extra]) (0.21.0)\n",
            "Requirement already satisfied: numpy in /usr/local/lib/python3.7/dist-packages (from stable-baselines3[extra]) (1.21.6)\n",
            "Requirement already satisfied: torch>=1.11 in /usr/local/lib/python3.7/dist-packages (from stable-baselines3[extra]) (1.12.0+cu113)\n",
            "Requirement already satisfied: cloudpickle in /usr/local/lib/python3.7/dist-packages (from stable-baselines3[extra]) (1.3.0)\n",
            "Requirement already satisfied: pandas in /usr/local/lib/python3.7/dist-packages (from stable-baselines3[extra]) (1.3.5)\n",
            "Requirement already satisfied: matplotlib in /usr/local/lib/python3.7/dist-packages (from stable-baselines3[extra]) (3.2.2)\n",
            "Requirement already satisfied: opencv-python in /usr/local/lib/python3.7/dist-packages (from stable-baselines3[extra]) (4.6.0.66)\n",
            "Requirement already satisfied: ale-py==0.7.4 in /usr/local/lib/python3.7/dist-packages (from stable-baselines3[extra]) (0.7.4)\n",
            "Requirement already satisfied: autorom[accept-rom-license]~=0.4.2 in /usr/local/lib/python3.7/dist-packages (from stable-baselines3[extra]) (0.4.2)\n",
            "Requirement already satisfied: pillow in /usr/local/lib/python3.7/dist-packages (from stable-baselines3[extra]) (7.1.2)\n",
            "Requirement already satisfied: tensorboard>=2.2.0 in /usr/local/lib/python3.7/dist-packages (from stable-baselines3[extra]) (2.9.1)\n",
            "Requirement already satisfied: protobuf~=3.19.0 in /usr/local/lib/python3.7/dist-packages (from stable-baselines3[extra]) (3.19.4)\n",
            "Requirement already satisfied: psutil in /usr/local/lib/python3.7/dist-packages (from stable-baselines3[extra]) (5.4.8)\n",
            "Requirement already satisfied: importlib-metadata>=4.10.0 in /usr/local/lib/python3.7/dist-packages (from ale-py==0.7.4->stable-baselines3[extra]) (4.12.0)\n",
            "Requirement already satisfied: importlib-resources in /usr/local/lib/python3.7/dist-packages (from ale-py==0.7.4->stable-baselines3[extra]) (5.8.0)\n",
            "Requirement already satisfied: click in /usr/local/lib/python3.7/dist-packages (from autorom[accept-rom-license]~=0.4.2->stable-baselines3[extra]) (7.1.2)\n",
            "Requirement already satisfied: requests in /usr/local/lib/python3.7/dist-packages (from autorom[accept-rom-license]~=0.4.2->stable-baselines3[extra]) (2.23.0)\n",
            "Requirement already satisfied: tqdm in /usr/local/lib/python3.7/dist-packages (from autorom[accept-rom-license]~=0.4.2->stable-baselines3[extra]) (4.64.0)\n",
            "Requirement already satisfied: AutoROM.accept-rom-license in /usr/local/lib/python3.7/dist-packages (from autorom[accept-rom-license]~=0.4.2->stable-baselines3[extra]) (0.4.2)\n",
            "Requirement already satisfied: typing-extensions>=3.6.4 in /usr/local/lib/python3.7/dist-packages (from importlib-metadata>=4.10.0->ale-py==0.7.4->stable-baselines3[extra]) (4.1.1)\n",
            "Requirement already satisfied: zipp>=0.5 in /usr/local/lib/python3.7/dist-packages (from importlib-metadata>=4.10.0->ale-py==0.7.4->stable-baselines3[extra]) (3.8.1)\n",
            "Requirement already satisfied: setuptools>=41.0.0 in /usr/local/lib/python3.7/dist-packages (from tensorboard>=2.2.0->stable-baselines3[extra]) (57.4.0)\n",
            "Requirement already satisfied: markdown>=2.6.8 in /usr/local/lib/python3.7/dist-packages (from tensorboard>=2.2.0->stable-baselines3[extra]) (3.4.1)\n",
            "Requirement already satisfied: absl-py>=0.4 in /usr/local/lib/python3.7/dist-packages (from tensorboard>=2.2.0->stable-baselines3[extra]) (1.2.0)\n",
            "Requirement already satisfied: tensorboard-plugin-wit>=1.6.0 in /usr/local/lib/python3.7/dist-packages (from tensorboard>=2.2.0->stable-baselines3[extra]) (1.8.1)\n",
            "Requirement already satisfied: google-auth-oauthlib<0.5,>=0.4.1 in /usr/local/lib/python3.7/dist-packages (from tensorboard>=2.2.0->stable-baselines3[extra]) (0.4.6)\n",
            "Requirement already satisfied: google-auth<3,>=1.6.3 in /usr/local/lib/python3.7/dist-packages (from tensorboard>=2.2.0->stable-baselines3[extra]) (1.35.0)\n",
            "Requirement already satisfied: grpcio>=1.24.3 in /usr/local/lib/python3.7/dist-packages (from tensorboard>=2.2.0->stable-baselines3[extra]) (1.47.0)\n",
            "Requirement already satisfied: tensorboard-data-server<0.7.0,>=0.6.0 in /usr/local/lib/python3.7/dist-packages (from tensorboard>=2.2.0->stable-baselines3[extra]) (0.6.1)\n",
            "Requirement already satisfied: werkzeug>=1.0.1 in /usr/local/lib/python3.7/dist-packages (from tensorboard>=2.2.0->stable-baselines3[extra]) (1.0.1)\n",
            "Requirement already satisfied: wheel>=0.26 in /usr/local/lib/python3.7/dist-packages (from tensorboard>=2.2.0->stable-baselines3[extra]) (0.37.1)\n",
            "Requirement already satisfied: cachetools<5.0,>=2.0.0 in /usr/local/lib/python3.7/dist-packages (from google-auth<3,>=1.6.3->tensorboard>=2.2.0->stable-baselines3[extra]) (4.2.4)\n",
            "Requirement already satisfied: pyasn1-modules>=0.2.1 in /usr/local/lib/python3.7/dist-packages (from google-auth<3,>=1.6.3->tensorboard>=2.2.0->stable-baselines3[extra]) (0.2.8)\n",
            "Requirement already satisfied: rsa<5,>=3.1.4 in /usr/local/lib/python3.7/dist-packages (from google-auth<3,>=1.6.3->tensorboard>=2.2.0->stable-baselines3[extra]) (4.8)\n",
            "Requirement already satisfied: six>=1.9.0 in /usr/local/lib/python3.7/dist-packages (from google-auth<3,>=1.6.3->tensorboard>=2.2.0->stable-baselines3[extra]) (1.15.0)\n",
            "Requirement already satisfied: requests-oauthlib>=0.7.0 in /usr/local/lib/python3.7/dist-packages (from google-auth-oauthlib<0.5,>=0.4.1->tensorboard>=2.2.0->stable-baselines3[extra]) (1.3.1)\n",
            "Requirement already satisfied: pyasn1<0.5.0,>=0.4.6 in /usr/local/lib/python3.7/dist-packages (from pyasn1-modules>=0.2.1->google-auth<3,>=1.6.3->tensorboard>=2.2.0->stable-baselines3[extra]) (0.4.8)\n",
            "Requirement already satisfied: urllib3!=1.25.0,!=1.25.1,<1.26,>=1.21.1 in /usr/local/lib/python3.7/dist-packages (from requests->autorom[accept-rom-license]~=0.4.2->stable-baselines3[extra]) (1.24.3)\n",
            "Requirement already satisfied: idna<3,>=2.5 in /usr/local/lib/python3.7/dist-packages (from requests->autorom[accept-rom-license]~=0.4.2->stable-baselines3[extra]) (2.10)\n",
            "Requirement already satisfied: chardet<4,>=3.0.2 in /usr/local/lib/python3.7/dist-packages (from requests->autorom[accept-rom-license]~=0.4.2->stable-baselines3[extra]) (3.0.4)\n",
            "Requirement already satisfied: certifi>=2017.4.17 in /usr/local/lib/python3.7/dist-packages (from requests->autorom[accept-rom-license]~=0.4.2->stable-baselines3[extra]) (2022.6.15)\n",
            "Requirement already satisfied: oauthlib>=3.0.0 in /usr/local/lib/python3.7/dist-packages (from requests-oauthlib>=0.7.0->google-auth-oauthlib<0.5,>=0.4.1->tensorboard>=2.2.0->stable-baselines3[extra]) (3.2.0)\n",
            "Requirement already satisfied: python-dateutil>=2.1 in /usr/local/lib/python3.7/dist-packages (from matplotlib->stable-baselines3[extra]) (2.8.2)\n",
            "Requirement already satisfied: cycler>=0.10 in /usr/local/lib/python3.7/dist-packages (from matplotlib->stable-baselines3[extra]) (0.11.0)\n",
            "Requirement already satisfied: pyparsing!=2.0.4,!=2.1.2,!=2.1.6,>=2.0.1 in /usr/local/lib/python3.7/dist-packages (from matplotlib->stable-baselines3[extra]) (3.0.9)\n",
            "Requirement already satisfied: kiwisolver>=1.0.1 in /usr/local/lib/python3.7/dist-packages (from matplotlib->stable-baselines3[extra]) (1.4.4)\n",
            "Requirement already satisfied: pytz>=2017.3 in /usr/local/lib/python3.7/dist-packages (from pandas->stable-baselines3[extra]) (2022.1)\n"
          ]
        }
      ],
      "source": [
        "!pip install git+https://github.com/DLR-RM/stable-baselines3#egg=stable-baselines3[extra]"
      ]
    },
    {
      "cell_type": "code",
      "execution_count": null,
      "id": "CnDihPJ9v2Jo",
      "metadata": {
        "colab": {
          "base_uri": "https://localhost:8080/"
        },
        "id": "CnDihPJ9v2Jo",
        "outputId": "629813b3-bd8a-4d95-fad4-da846c692407"
      },
      "outputs": [
        {
          "name": "stdout",
          "output_type": "stream",
          "text": [
            "Looking in indexes: https://pypi.org/simple, https://us-python.pkg.dev/colab-wheels/public/simple/\n",
            "Collecting gym==0.24.1\n",
            "  Using cached gym-0.24.1-py3-none-any.whl\n",
            "Requirement already satisfied: gym-notices>=0.0.4 in /usr/local/lib/python3.7/dist-packages (from gym==0.24.1) (0.0.7)\n",
            "Requirement already satisfied: numpy>=1.18.0 in /usr/local/lib/python3.7/dist-packages (from gym==0.24.1) (1.21.6)\n",
            "Requirement already satisfied: cloudpickle>=1.2.0 in /usr/local/lib/python3.7/dist-packages (from gym==0.24.1) (1.3.0)\n",
            "Requirement already satisfied: importlib-metadata>=4.8.0 in /usr/local/lib/python3.7/dist-packages (from gym==0.24.1) (4.12.0)\n",
            "Requirement already satisfied: typing-extensions>=3.6.4 in /usr/local/lib/python3.7/dist-packages (from importlib-metadata>=4.8.0->gym==0.24.1) (4.1.1)\n",
            "Requirement already satisfied: zipp>=0.5 in /usr/local/lib/python3.7/dist-packages (from importlib-metadata>=4.8.0->gym==0.24.1) (3.8.1)\n",
            "Installing collected packages: gym\n",
            "  Attempting uninstall: gym\n",
            "    Found existing installation: gym 0.21.0\n",
            "    Uninstalling gym-0.21.0:\n",
            "      Successfully uninstalled gym-0.21.0\n",
            "\u001b[31mERROR: pip's dependency resolver does not currently take into account all the packages that are installed. This behaviour is the source of the following dependency conflicts.\n",
            "stable-baselines3 1.6.1a0 requires gym==0.21, but you have gym 0.24.1 which is incompatible.\u001b[0m\n",
            "Successfully installed gym-0.24.1\n"
          ]
        }
      ],
      "source": [
        "!pip install gym==0.24.1"
      ]
    },
    {
      "cell_type": "code",
      "execution_count": null,
      "id": "645584a5",
      "metadata": {
        "colab": {
          "base_uri": "https://localhost:8080/",
          "height": 36
        },
        "id": "645584a5",
        "outputId": "7c5c222f-05c0-443a-bde9-94c83d3a0886"
      },
      "outputs": [
        {
          "data": {
            "application/vnd.google.colaboratory.intrinsic+json": {
              "type": "string"
            },
            "text/plain": [
              "'0.24.1'"
            ]
          },
          "execution_count": 8,
          "metadata": {},
          "output_type": "execute_result"
        }
      ],
      "source": [
        "import gym\n",
        "from gym.spaces import Box, Discrete\n",
        "from gym.wrappers import FrameStack\n",
        "from matplotlib import pyplot as plt\n",
        "import os\n",
        "os.environ['SDL_VIDEODRIVER']='dummy'\n",
        "import pygame\n",
        "pygame.display.set_mode((640,480))\n",
        "gym.__version__"
      ]
    },
    {
      "cell_type": "code",
      "execution_count": null,
      "id": "ahytC4FJyqXX",
      "metadata": {
        "id": "ahytC4FJyqXX"
      },
      "outputs": [],
      "source": [
        "import torch\n",
        "from torch import nn\n",
        "from torchvision import transforms as T\n",
        "from PIL import Image\n",
        "from matplotlib import cm\n",
        "import numpy as np\n",
        "from pathlib import Path\n",
        "from collections import deque\n",
        "import random, datetime, copy"
      ]
    },
    {
      "cell_type": "code",
      "execution_count": null,
      "id": "rM5Eaq5rLV_w",
      "metadata": {
        "colab": {
          "base_uri": "https://localhost:8080/"
        },
        "id": "rM5Eaq5rLV_w",
        "outputId": "9be35682-c286-451f-b0e7-42e4af573bc3"
      },
      "outputs": [
        {
          "name": "stdout",
          "output_type": "stream",
          "text": [
            "Drive already mounted at /content/drive; to attempt to forcibly remount, call drive.mount(\"/content/drive\", force_remount=True).\n",
            "/content/drive/MyDrive/SUTD/AI Lab\n"
          ]
        }
      ],
      "source": [
        "# Change working directory\n",
        "from google.colab import drive\n",
        "drive.mount('/content/drive')\n",
        "\n",
        "os.chdir('/content/drive/MyDrive/SUTD/AI Lab')\n",
        "print(os.getcwd())"
      ]
    },
    {
      "cell_type": "markdown",
      "id": "7ecd1553",
      "metadata": {
        "id": "7ecd1553"
      },
      "source": [
        "# 2. Loading the environment"
      ]
    },
    {
      "cell_type": "code",
      "execution_count": null,
      "id": "8ba5e99c",
      "metadata": {
        "colab": {
          "base_uri": "https://localhost:8080/"
        },
        "id": "8ba5e99c",
        "outputId": "fdc7f197-3985-49b5-d0e1-5a4578ce4236"
      },
      "outputs": [
        {
          "name": "stderr",
          "output_type": "stream",
          "text": [
            "/usr/local/lib/python3.7/dist-packages/gym/utils/passive_env_checker.py:98: UserWarning: \u001b[33mWARN: We recommend you to use a symmetric and normalized Box action space (range=[-1, 1]) https://stable-baselines3.readthedocs.io/en/master/guide/rl_tips.html\u001b[0m\n",
            "  \"We recommend you to use a symmetric and normalized Box action space (range=[-1, 1]) \"\n"
          ]
        }
      ],
      "source": [
        "env = gym.make('CarRacing-v1')"
      ]
    },
    {
      "cell_type": "code",
      "execution_count": null,
      "id": "viyv1cMUwrGe",
      "metadata": {
        "colab": {
          "base_uri": "https://localhost:8080/"
        },
        "id": "viyv1cMUwrGe",
        "outputId": "e36bfdce-3dd7-4be4-d2c2-2c2c119b89bb"
      },
      "outputs": [
        {
          "name": "stdout",
          "output_type": "stream",
          "text": [
            "The observation space: Box(0, 255, (96, 96, 3), uint8)\n",
            "The action space: Box([-1.  0.  0.], 1.0, (3,), float32)\n",
            "The action space is bounded: True\n",
            "The action space Upper Bound: [1. 1. 1.]\n",
            "The action space Lower Bound: [-1.  0.  0.]\n"
          ]
        }
      ],
      "source": [
        "obs_space = env.observation_space\n",
        "action_space = env.action_space\n",
        "print(\"The observation space: {}\".format(obs_space))\n",
        "print(\"The action space: {}\".format(action_space))\n",
        "print(\"The action space is bounded: {}\".format(action_space.is_bounded()))\n",
        "print(\"The action space Upper Bound: {}\".format(action_space.high))\n",
        "print(\"The action space Lower Bound: {}\".format(action_space.low))"
      ]
    },
    {
      "cell_type": "code",
      "execution_count": null,
      "id": "_CedyBOiHR9o",
      "metadata": {
        "colab": {
          "base_uri": "https://localhost:8080/",
          "height": 268
        },
        "id": "_CedyBOiHR9o",
        "outputId": "1ae5d101-fe22-43bb-ec57-e3e6b6732a56"
      },
      "outputs": [
        {
          "data": {
            "image/png": "[encoded data removed]",
            "text/plain": [
              "<Figure size 432x288 with 1 Axes>"
            ]
          },
          "metadata": {
            "needs_background": "light"
          },
          "output_type": "display_data"
        }
      ],
      "source": [
        "#Lets take a look at our environment\n",
        "obs = env.reset()\n",
        "plt.imshow(obs[:-12], interpolation='nearest')\n",
        "plt.show()"
      ]
    },
    {
      "cell_type": "code",
      "execution_count": null,
      "id": "2EsQyLMJHchy",
      "metadata": {
        "colab": {
          "base_uri": "https://localhost:8080/",
          "height": 330
        },
        "id": "2EsQyLMJHchy",
        "outputId": "8527b166-2ed8-459e-ffc5-05602791a91e"
      },
      "outputs": [
        {
          "name": "stdout",
          "output_type": "stream",
          "text": [
            "[0.4236744  0.20175415 0.93572897]\n",
            "6.289776357827477 False {}\n"
          ]
        },
        {
          "data": {
            "image/png": "[encoded data removed]",
            "text/plain": [
              "<Figure size 360x360 with 1 Axes>"
            ]
          },
          "metadata": {
            "needs_background": "light"
          },
          "output_type": "display_data"
        }
      ],
      "source": [
        "# Sample a random action from the entire action space\n",
        "random_action = env.action_space.sample()\n",
        "print(random_action)\n",
        "# Take the action and get the new observation space\n",
        "new_obs, reward, done, info = env.step(random_action)\n",
        "print(reward, done, info)\n",
        "plt.figure(figsize=(5,5))\n",
        "plt.imshow(new_obs[:-12], interpolation='nearest')\n",
        "plt.show()"
      ]
    },
    {
      "cell_type": "markdown",
      "id": "5CvmuXTbIawA",
      "metadata": {
        "id": "5CvmuXTbIawA"
      },
      "source": [
        "# 3. Wrappers"
      ]
    },
    {
      "cell_type": "markdown",
      "id": "6Dc3wPRgIiqK",
      "metadata": {
        "id": "6Dc3wPRgIiqK"
      },
      "source": [
        "## Observation Wrappers"
      ]
    },
    {
      "cell_type": "code",
      "execution_count": null,
      "id": "ZUkIevZ27x_y",
      "metadata": {
        "id": "ZUkIevZ27x_y"
      },
      "outputs": [],
      "source": [
        "import cv2\n",
        "class GrayScaleObservation(gym.ObservationWrapper):\n",
        "    def __init__(self, env):\n",
        "        super().__init__(env)\n",
        "        obs_shape = self.observation_space.shape[:2]\n",
        "        self.observation_space = Box(low=0, high=255, shape=obs_shape, dtype=np.uint8)\n",
        "\n",
        "    def permute_orientation(self, observation):\n",
        "        # permute [H, W, C] array to [C, H, W] tensor\n",
        "        observation = np.transpose(observation, (2, 0, 1))\n",
        "        observation = torch.tensor(observation.copy(), dtype=torch.float)\n",
        "        return observation\n",
        "\n",
        "    def observation(self, observation):\n",
        "        # observation = self.permute_orientation(observation)\n",
        "        transform = T.Grayscale()\n",
        "        observation = transform(observation)\n",
        "        return observation\n",
        "\n",
        "# class ObservationWrapper(gym.ObservationWrapper):\n",
        "#     def __init__(self, env):\n",
        "#         super().__init__(env)\n",
        "    \n",
        "#     def observation(self, obs):\n",
        "#         # Normalise observation by 255\n",
        "#         return obs / 255.0\n",
        "\n",
        "class ObservationWrappers(gym.ObservationWrapper):\n",
        "    def __init__(self, env):\n",
        "        super().__init__(env)\n",
        "        obs_shape = self.observation_space.shape[:2]\n",
        "        self.observation_space = Box(low=0, high=255, shape=obs_shape, dtype=np.uint8)\n",
        "        self.frames = []\n",
        "\n",
        "    def permute_orientation(self, observation):\n",
        "        # permute [H, W, C] array to [C, H, W] tensor\n",
        "        observation = np.transpose(observation, (2, 0, 1))\n",
        "        observation = torch.tensor(observation.copy(), dtype=torch.float)\n",
        "        return observation\n",
        "\n",
        "    def blur_image(self, observation):\n",
        "        blur = cv2.GaussianBlur(observation, (5, 5), 0)\n",
        "        return blur\n",
        "\n",
        "    def observation(self, observation):\n",
        "        cropped = observation[:-12]\n",
        "        cropped = cv2.copyMakeBorder(cropped, 0, 12, 0, 0, cv2.BORDER_CONSTANT, value=[0, 0, 0])\n",
        "        gray = cv2.cvtColor(cropped, cv2.COLOR_RGB2GRAY)\n",
        "        blur = self.blur_image(gray)\n",
        "        canny = self.canny_edge_detector(blur)\n",
        "\n",
        "        self.frames.append(canny)\n",
        "        return canny\n",
        "\n",
        "    def canny_edge_detector(self, observation):\n",
        "        canny = cv2.Canny(observation, 50, 150)\n",
        "        return canny\n",
        "\n",
        "    def generate_video(self):\n",
        "        print(\"generating video\")\n",
        "        fourcc = cv2.VideoWriter_fourcc(\"M\", \"J\", \"P\", \"G\")\n",
        "        self.video = cv2.VideoWriter(\"./video.avi\", fourcc, 20, (17, 49))\n",
        "\n",
        "        for i in range(len(self.frames)):\n",
        "            self.video.write(self.frames[i])\n",
        "        self.video.release()\n",
        "\n",
        "class ResizeObservation(gym.ObservationWrapper):\n",
        "    def __init__(self, env, shape):\n",
        "        super().__init__(env)\n",
        "        if isinstance(shape, int):\n",
        "            self.shape = (shape, shape)\n",
        "        else:\n",
        "            self.shape = tuple(shape)\n",
        "\n",
        "        obs_shape = self.shape + self.observation_space.shape[2:]\n",
        "        self.observation_space = Box(low=0, high=255, shape=obs_shape, dtype=np.uint8)\n",
        "\n",
        "    def permute_orientation(self, observation):\n",
        "        # permute [H, W, C] array to [C, H, W] tensor\n",
        "        observation = np.transpose(observation, (2, 0, 1))\n",
        "        observation = torch.tensor(observation.copy(), dtype=torch.float)\n",
        "        return observation\n",
        "\n",
        "    def observation(self, observation):\n",
        "        transforms = T.Compose(\n",
        "            [T.Resize(self.shape), T.Normalize(0, 255)]\n",
        "        )\n",
        "        observation = self.permute_orientation(observation)\n",
        "        observation = transforms(observation).squeeze(0)\n",
        "        return observation"
      ]
    },
    {
      "cell_type": "markdown",
      "id": "jjxOxam1mL8F",
      "metadata": {
        "id": "jjxOxam1mL8F"
      },
      "source": [
        "### Example of using observation wrappers"
      ]
    },
    {
      "cell_type": "code",
      "execution_count": null,
      "id": "DXhSleiUhHcT",
      "metadata": {
        "colab": {
          "base_uri": "https://localhost:8080/"
        },
        "id": "DXhSleiUhHcT",
        "outputId": "d3f419c5-86e0-4eec-e734-f09c320c7ab7"
      },
      "outputs": [
        {
          "name": "stdout",
          "output_type": "stream",
          "text": [
            "[0.39216   0.824331  0.3637444]\n",
            "6.269426751592357 False {}\n"
          ]
        },
        {
          "name": "stderr",
          "output_type": "stream",
          "text": [
            "/usr/local/lib/python3.7/dist-packages/gym/utils/passive_env_checker.py:98: UserWarning: \u001b[33mWARN: We recommend you to use a symmetric and normalized Box action space (range=[-1, 1]) https://stable-baselines3.readthedocs.io/en/master/guide/rl_tips.html\u001b[0m\n",
            "  \"We recommend you to use a symmetric and normalized Box action space (range=[-1, 1]) \"\n"
          ]
        },
        {
          "data": {
            "image/png": "[encoded data removed]",
            "text/plain": [
              "<Figure size 360x360 with 1 Axes>"
            ]
          },
          "metadata": {
            "needs_background": "light"
          },
          "output_type": "display_data"
        }
      ],
      "source": [
        "env = gym.make('CarRacing-v1')\n",
        "env.reset()\n",
        "env = GrayScaleObservation(ResizeObservation(env, (80,80)))\n",
        "\n",
        "random_action = env.action_space.sample()\n",
        "print(random_action)\n",
        "# Take the action and get the new observation space\n",
        "new_obs, reward, done, info = env.step(random_action)\n",
        "\n",
        "print(reward, done, info)\n",
        "plt.figure(figsize=(5,5))\n",
        "plt.imshow(new_obs[0,:,:][:-12], cmap='gray',interpolation='nearest')\n",
        "plt.show()"
      ]
    },
    {
      "cell_type": "markdown",
      "id": "a6RMgia6I_Gx",
      "metadata": {
        "id": "a6RMgia6I_Gx"
      },
      "source": [
        "## Reward Wrappers"
      ]
    },
    {
      "cell_type": "code",
      "execution_count": null,
      "id": "NyReEkbdzUGo",
      "metadata": {
        "id": "NyReEkbdzUGo"
      },
      "outputs": [],
      "source": [
        "class RewardWrapper(gym.RewardWrapper):\n",
        "    def __init__(self, env):\n",
        "        super().__init__(env)\n",
        "    \n",
        "    def reward(self, reward):\n",
        "        # Clip reward between 0 to 1\n",
        "        print(reward)\n",
        "        return np.clip(reward, 0, 1)"
      ]
    },
    {
      "cell_type": "markdown",
      "id": "WLoX0swbJBNI",
      "metadata": {
        "id": "WLoX0swbJBNI"
      },
      "source": [
        "## Action Wrappers\n",
        "Map actions to discrete spaces.\n",
        "\n",
        "Reason: Suppose you want to train a (D)DQN agent for an environment with continuous actions. Since DQN implementations typically expect to produce a single discrete action, the action space has to both be discretized and flattened."
      ]
    },
    {
      "cell_type": "code",
      "execution_count": null,
      "id": "F2AHGTrV8fpS",
      "metadata": {
        "id": "F2AHGTrV8fpS"
      },
      "outputs": [],
      "source": [
        "class ActionWrapper(gym.ActionWrapper):\n",
        "    def __init__(self, env):\n",
        "        super().__init__(env)\n",
        "    \n",
        "    def action(self, act):\n",
        "        print(act)\n",
        "        return act\n",
        "\n",
        "class DiscreteWrapper(gym.Wrapper):\n",
        "    def __init__(self, env):\n",
        "        super().__init__(env)\n",
        "        self.env = env\n",
        "        self.__actions__ = [(-1, 0.2, 0.), (0, 0.2, 0.), (1, 0.2, 0.),\n",
        "                            (-1, 0.5, 0.), (0, 0.5, 0.), (1, 0.5, 0.), #           Action Space Structure\n",
        "                            (-1, 1,   0), (0, 1,   0), (1, 1,   0), #        (Steering Wheel, Gas, Break)\n",
        "                            (-1, 0, 0.8), (0, 0, 0.8), (1, 0, 0.8), # Range        -1~1       0~1   0~1\n",
        "                            (-1, 0, 0.3), (0, 0, 0.3), (1, 0, 0.3),\n",
        "                            (-1, 0,   0), (0, 0,   0), (1, 0,   0)]\n",
        "\n",
        "        \n",
        "        self.action_space = Discrete(len(self.__actions__)-1)\n",
        "        \n",
        "    def step(self, action):\n",
        "        # print(action)\n",
        "        next_state, reward, done, info = self.env.step(self.__actions__[action])\n",
        "        # modify ...\n",
        "        return next_state, reward, done, info"
      ]
    },
    {
      "cell_type": "markdown",
      "id": "pHK_kIdtnOJK",
      "metadata": {
        "id": "pHK_kIdtnOJK"
      },
      "source": [
        "### Example of using action wrappers"
      ]
    },
    {
      "cell_type": "code",
      "execution_count": null,
      "id": "_VdYUNO-mRzl",
      "metadata": {
        "colab": {
          "base_uri": "https://localhost:8080/"
        },
        "id": "_VdYUNO-mRzl",
        "outputId": "f0d88416-6308-491e-c3be-d90483e1884a"
      },
      "outputs": [
        {
          "name": "stdout",
          "output_type": "stream",
          "text": [
            "15\n",
            "7.592307692307693 False {}\n"
          ]
        },
        {
          "name": "stderr",
          "output_type": "stream",
          "text": [
            "/usr/local/lib/python3.7/dist-packages/gym/utils/passive_env_checker.py:98: UserWarning: \u001b[33mWARN: We recommend you to use a symmetric and normalized Box action space (range=[-1, 1]) https://stable-baselines3.readthedocs.io/en/master/guide/rl_tips.html\u001b[0m\n",
            "  \"We recommend you to use a symmetric and normalized Box action space (range=[-1, 1]) \"\n"
          ]
        },
        {
          "data": {
            "image/png": "[encoded data removed]",
            "text/plain": [
              "<Figure size 360x360 with 1 Axes>"
            ]
          },
          "metadata": {
            "needs_background": "light"
          },
          "output_type": "display_data"
        }
      ],
      "source": [
        "env = gym.make('CarRacing-v1')\n",
        "env.reset()\n",
        "env = DiscreteWrapper(env)\n",
        "\n",
        "random_action = env.action_space.sample()\n",
        "print(random_action)\n",
        "# Take the action and get the new observation space\n",
        "new_obs, reward, done, info = env.step(random_action)\n",
        "\n",
        "print(reward, done, info)\n",
        "plt.figure(figsize=(5,5))\n",
        "plt.imshow(new_obs[:-12], cmap='gray',interpolation='nearest')\n",
        "plt.show()"
      ]
    },
    {
      "cell_type": "markdown",
      "id": "5ibJbFlbJDA4",
      "metadata": {
        "id": "5ibJbFlbJDA4"
      },
      "source": [
        "## Other Wrappers"
      ]
    },
    {
      "cell_type": "code",
      "execution_count": null,
      "id": "SreyD9OoJFv4",
      "metadata": {
        "id": "SreyD9OoJFv4"
      },
      "outputs": [],
      "source": [
        "class SkipFrame(gym.Wrapper):\n",
        "    def __init__(self, env, skip):\n",
        "        \"\"\"Return only every `skip`-th frame\"\"\"\n",
        "        super().__init__(env)\n",
        "        self._skip = skip\n",
        "\n",
        "    def step(self, action):\n",
        "        \"\"\"Repeat action, and sum reward\"\"\"\n",
        "        total_reward = 0.0\n",
        "        done = False\n",
        "        for i in range(self._skip):\n",
        "            # Accumulate reward and repeat the same action\n",
        "            obs, reward, done, info = self.env.step(action)\n",
        "            total_reward += reward\n",
        "            if done:\n",
        "                break\n",
        "        return obs, total_reward, done, info"
      ]
    },
    {
      "cell_type": "markdown",
      "id": "KTmm2bVlJ-FT",
      "metadata": {
        "id": "KTmm2bVlJ-FT"
      },
      "source": [
        "**Vectorized Environments** are a method for stacking multiple independent environments into a single environment. **Instead of training an RL agent on 1 environment per step**, it allows us to **train it on n environments per step**. Because of this, actions passed to the environment are now a vector (of dimension n). It is the same for observations, rewards and end of episode signals (dones). In the case of non-array observation spaces such as Dict or Tuple, where different sub-spaces may have different shapes, the sub-observations are vectors (of dimension n)."
      ]
    },
    {
      "cell_type": "code",
      "execution_count": null,
      "id": "qmvFjCs3MrqZ",
      "metadata": {
        "id": "qmvFjCs3MrqZ"
      },
      "outputs": [],
      "source": [
        "class VectorizedEnvWrapper(gym.Wrapper):\n",
        "    def __init__(self, make_env, num_envs=1):\n",
        "        super().__init__(make_env())\n",
        "        self.num_envs = num_envs\n",
        "        self.envs = [make_env() for env_index in range(num_envs)]\n",
        "    \n",
        "    def reset(self):\n",
        "        return np.asarray([env.reset() for env in self.envs])\n",
        "    \n",
        "    def reset_at(self, env_index):\n",
        "        return self.envs[env_index].reset()\n",
        "    \n",
        "    def step(self, actions):\n",
        "        next_states, rewards, dones, infos = [], [], [], []\n",
        "        for env, action in zip(self.envs, actions):\n",
        "            next_state, reward, done, info = env.step(action)\n",
        "            next_states.append(next_state)\n",
        "            rewards.append(reward)\n",
        "            dones.append(done)\n",
        "            infos.append(info)\n",
        "        return np.asarray(next_states), np.asarray(rewards), \\\n",
        "            np.asarray(dones), np.asarray(infos)"
      ]
    },
    {
      "cell_type": "markdown",
      "id": "uXffM6minS61",
      "metadata": {
        "id": "uXffM6minS61"
      },
      "source": [
        "### Example of using Vec Env"
      ]
    },
    {
      "cell_type": "code",
      "execution_count": null,
      "id": "VFsiWI4CJmDB",
      "metadata": {
        "colab": {
          "base_uri": "https://localhost:8080/"
        },
        "id": "VFsiWI4CJmDB",
        "outputId": "7d237a6b-280e-4de5-f0c8-26e4b7f47dee"
      },
      "outputs": [
        {
          "name": "stderr",
          "output_type": "stream",
          "text": [
            "/usr/local/lib/python3.7/dist-packages/gym/utils/passive_env_checker.py:98: UserWarning: \u001b[33mWARN: We recommend you to use a symmetric and normalized Box action space (range=[-1, 1]) https://stable-baselines3.readthedocs.io/en/master/guide/rl_tips.html\u001b[0m\n",
            "  \"We recommend you to use a symmetric and normalized Box action space (range=[-1, 1]) \"\n"
          ]
        },
        {
          "name": "stdout",
          "output_type": "stream",
          "text": [
            "(3, 96, 96, 3)\n",
            "(3,)\n",
            "(3,)\n"
          ]
        },
        {
          "data": {
            "image/png": "[encoded data removed]",
            "text/plain": [
              "<Figure size 360x360 with 1 Axes>"
            ]
          },
          "metadata": {
            "needs_background": "light"
          },
          "output_type": "display_data"
        },
        {
          "data": {
            "image/png": "[encoded data removed]",
            "text/plain": [
              "<Figure size 360x360 with 1 Axes>"
            ]
          },
          "metadata": {
            "needs_background": "light"
          },
          "output_type": "display_data"
        },
        {
          "data": {
            "image/png": "[encoded data removed]",
            "text/plain": [
              "<Figure size 360x360 with 1 Axes>"
            ]
          },
          "metadata": {
            "needs_background": "light"
          },
          "output_type": "display_data"
        }
      ],
      "source": [
        "# Example on how Vec Env is used Vec Env\n",
        "env = VectorizedEnvWrapper(lambda: gym.make('CarRacing-v1'), 3)\n",
        "\n",
        "T = 10\n",
        "observations = env.reset()\n",
        "for t in range(T):\n",
        "    actions = []\n",
        "    for i in range(3):\n",
        "      actions.append(env.action_space.sample())\n",
        "\n",
        "    observations, rewards, dones, infos = env.step(actions)  \n",
        "    for i in range(len(dones)):\n",
        "        if dones[i]:\n",
        "            observations[i] = env.reset_at(i)\n",
        "print(observations.shape)\n",
        "print(rewards.shape)\n",
        "print(dones.shape)\n",
        "\n",
        "for i in observations:\n",
        "  plt.figure(figsize=(5,5))\n",
        "  plt.imshow(i[:-12], interpolation='nearest')\n",
        "  plt.show()"
      ]
    },
    {
      "cell_type": "markdown",
      "id": "DlBu22Zgcr4f",
      "metadata": {
        "id": "DlBu22Zgcr4f"
      },
      "source": [
        "## Customised env make"
      ]
    },
    {
      "cell_type": "code",
      "execution_count": null,
      "id": "mfn6Ednbcv_S",
      "metadata": {
        "id": "mfn6Ednbcv_S"
      },
      "outputs": [],
      "source": [
        "def env_make():\n",
        "    env = gym.make('CarRacing-v1')\n",
        "    env = SkipFrame(env, 2)\n",
        "    env = ObservationWrappers(env)\n",
        "    env = DiscreteWrapper(env) #discretize actions\n",
        "    # env = FrameStack(env, num_stack=2)\n",
        "    return env"
      ]
    },
    {
      "cell_type": "markdown",
      "id": "77035e11",
      "metadata": {
        "id": "77035e11"
      },
      "source": [
        "# Train an RL Model"
      ]
    },
    {
      "cell_type": "code",
      "execution_count": null,
      "id": "5aa17423",
      "metadata": {
        "colab": {
          "base_uri": "https://localhost:8080/"
        },
        "id": "5aa17423",
        "outputId": "15be0196-1ec8-472d-cd1e-85f53ea3d92b"
      },
      "outputs": [
        {
          "name": "stderr",
          "output_type": "stream",
          "text": [
            "/usr/local/lib/python3.7/dist-packages/gym/utils/passive_env_checker.py:98: UserWarning: \u001b[33mWARN: We recommend you to use a symmetric and normalized Box action space (range=[-1, 1]) https://stable-baselines3.readthedocs.io/en/master/guide/rl_tips.html\u001b[0m\n",
            "  \"We recommend you to use a symmetric and normalized Box action space (range=[-1, 1]) \"\n",
            "/usr/local/lib/python3.7/dist-packages/gym/core.py:201: DeprecationWarning: \u001b[33mWARN: Function `env.seed(seed)` is marked as deprecated and will be removed in the future. Please use `env.reset(seed=seed)` instead.\u001b[0m\n",
            "  \"Function `env.seed(seed)` is marked as deprecated and will be removed in the future. \"\n"
          ]
        },
        {
          "name": "stdout",
          "output_type": "stream",
          "text": [
            "Using cuda device\n",
            "Wrapping the env with a `Monitor` wrapper\n",
            "Wrapping the env in a DummyVecEnv.\n"
          ]
        }
      ],
      "source": [
        "from stable_baselines3 import PPO, DQN\n",
        "from stable_baselines3.common.evaluation import evaluate_policy\n",
        "env = env_make()\n",
        "# env = DummyVecEnv([lambda: env]) # Wrapper for a non-vectorized environment\n",
        "model = DQN(\"MlpPolicy\",\n",
        "            env,\n",
        "            verbose=1,\n",
        "            train_freq=16,\n",
        "            gradient_steps=8,\n",
        "            gamma=0.99,\n",
        "            exploration_fraction=0.2,\n",
        "            exploration_final_eps=0.07,\n",
        "            target_update_interval=600,\n",
        "            learning_starts=1000,\n",
        "            buffer_size=10000,\n",
        "            batch_size=128,\n",
        "            learning_rate=4e-3,\n",
        "            policy_kwargs=dict(net_arch=[256, 256]),\n",
        "            seed=2)"
      ]
    },
    {
      "cell_type": "code",
      "execution_count": null,
      "id": "544cb8ed",
      "metadata": {
        "colab": {
          "base_uri": "https://localhost:8080/"
        },
        "id": "544cb8ed",
        "outputId": "75306d55-daee-43eb-a151-22c809f8fa30"
      },
      "outputs": [
        {
          "name": "stdout",
          "output_type": "stream",
          "text": [
            "----------------------------------\n",
            "| rollout/            |          |\n",
            "|    ep_len_mean      | 500      |\n",
            "|    ep_rew_mean      | -52.4    |\n",
            "|    exploration_rate | 0.07     |\n",
            "| time/               |          |\n",
            "|    episodes         | 4        |\n",
            "|    fps              | 32       |\n",
            "|    time_elapsed     | 60       |\n",
            "|    total_timesteps  | 2000     |\n",
            "| train/              |          |\n",
            "|    learning_rate    | 0.004    |\n",
            "|    loss             | 0.202    |\n",
            "|    n_updates        | 496      |\n",
            "----------------------------------\n",
            "----------------------------------\n",
            "| rollout/            |          |\n",
            "|    ep_len_mean      | 500      |\n",
            "|    ep_rew_mean      | -55.8    |\n",
            "|    exploration_rate | 0.07     |\n",
            "| time/               |          |\n",
            "|    episodes         | 8        |\n",
            "|    fps              | 33       |\n",
            "|    time_elapsed     | 117      |\n",
            "|    total_timesteps  | 4000     |\n",
            "| train/              |          |\n",
            "|    learning_rate    | 0.004    |\n",
            "|    loss             | 0.151    |\n",
            "|    n_updates        | 1496     |\n",
            "----------------------------------\n",
            "----------------------------------\n",
            "| rollout/            |          |\n",
            "|    ep_len_mean      | 500      |\n",
            "|    ep_rew_mean      | -53.6    |\n",
            "|    exploration_rate | 0.07     |\n",
            "| time/               |          |\n",
            "|    episodes         | 12       |\n",
            "|    fps              | 34       |\n",
            "|    time_elapsed     | 171      |\n",
            "|    total_timesteps  | 6000     |\n",
            "| train/              |          |\n",
            "|    learning_rate    | 0.004    |\n",
            "|    loss             | 0.152    |\n",
            "|    n_updates        | 2496     |\n",
            "----------------------------------\n",
            "----------------------------------\n",
            "| rollout/            |          |\n",
            "|    ep_len_mean      | 500      |\n",
            "|    ep_rew_mean      | -49.3    |\n",
            "|    exploration_rate | 0.07     |\n",
            "| time/               |          |\n",
            "|    episodes         | 16       |\n",
            "|    fps              | 35       |\n",
            "|    time_elapsed     | 226      |\n",
            "|    total_timesteps  | 8000     |\n",
            "| train/              |          |\n",
            "|    learning_rate    | 0.004    |\n",
            "|    loss             | 0.35     |\n",
            "|    n_updates        | 3496     |\n",
            "----------------------------------\n",
            "----------------------------------\n",
            "| rollout/            |          |\n",
            "|    ep_len_mean      | 500      |\n",
            "|    ep_rew_mean      | -49.6    |\n",
            "|    exploration_rate | 0.07     |\n",
            "| time/               |          |\n",
            "|    episodes         | 20       |\n",
            "|    fps              | 35       |\n",
            "|    time_elapsed     | 281      |\n",
            "|    total_timesteps  | 10000    |\n",
            "| train/              |          |\n",
            "|    learning_rate    | 0.004    |\n",
            "|    loss             | 0.398    |\n",
            "|    n_updates        | 4496     |\n",
            "----------------------------------\n"
          ]
        }
      ],
      "source": [
        "models_dir = \"./DQN\"\n",
        "if not os.path.exists(models_dir):\n",
        "    os.makedirs(models_dir)\n",
        "\n",
        "TIMESTEPS = 10000 # The number of env steps for each epoch\n",
        "epochs = 20  # Number of training iterations\n",
        "\n",
        "for i in range(1,epochs):\n",
        "  model.learn(total_timesteps=TIMESTEPS)\n",
        "  model.save(f\"{models_dir}/{TIMESTEPS*i}\")"
      ]
    },
    {
      "cell_type": "markdown",
      "id": "a69d8565",
      "metadata": {
        "id": "a69d8565"
      },
      "source": [
        "# 4. Save and Reload Model"
      ]
    },
    {
      "cell_type": "code",
      "execution_count": null,
      "id": "NLceezvbRabT",
      "metadata": {
        "id": "NLceezvbRabT"
      },
      "outputs": [],
      "source": [
        "model.save(f\"{models_dir}/{TIMESTEPS*i}\")"
      ]
    },
    {
      "cell_type": "code",
      "execution_count": null,
      "id": "cdff3ff4",
      "metadata": {
        "id": "cdff3ff4"
      },
      "outputs": [],
      "source": [
        "model = DQN.load(f\"{models_dir}/{TIMESTEPS*i}\", env=env)"
      ]
    },
    {
      "cell_type": "code",
      "execution_count": null,
      "id": "84b2d8e4",
      "metadata": {
        "id": "84b2d8e4"
      },
      "outputs": [],
      "source": [
        "model.learn(total_timesteps=20000)"
      ]
    },
    {
      "cell_type": "markdown",
      "id": "673249b3",
      "metadata": {
        "id": "673249b3"
      },
      "source": [
        "# 5. Evaluation"
      ]
    },
    {
      "cell_type": "code",
      "execution_count": null,
      "id": "aapDaFqiR8J4",
      "metadata": {
        "id": "aapDaFqiR8J4"
      },
      "outputs": [],
      "source": [
        "from IPython import display as ipythondisplay\n",
        "from pyvirtualdisplay import Display\n",
        "display = Display(visible=0, size=(400, 300))\n",
        "display.start()\n",
        "\n",
        "# We can review the training performance for 10 episodes\n",
        "num_steps=10\n",
        "prev_screen = env.render(mode='rgb_array')\n",
        "plt.imshow(prev_screen)\n",
        "\n",
        "for ep in range(num_steps):\n",
        "    screen = env.render(mode='rgb_array')\n",
        "    plt.imshow(screen)\n",
        "    ipythondisplay.clear_output(wait=True)\n",
        "    ipythondisplay.display(plt.gcf())\n",
        "\n",
        "    done = False\n",
        "    while not done:\n",
        "        screen = env.render(mode='rgb_array')\n",
        "        plt.imshow(screen)\n",
        "        ipythondisplay.clear_output(wait=True)\n",
        "        ipythondisplay.display(plt.gcf())\n",
        "        obs, reward, done, info = env.step(env.action_space.sample())\n",
        "\n",
        "env.close()"
      ]
    },
    {
      "cell_type": "code",
      "execution_count": null,
      "id": "ojs1FYFfUT6R",
      "metadata": {
        "id": "ojs1FYFfUT6R"
      },
      "outputs": [],
      "source": [
        "evaluate_policy(model, env, n_eval_episodes=10, render=True)"
      ]
    },
    {
      "cell_type": "markdown",
      "id": "27371887",
      "metadata": {
        "id": "27371887"
      },
      "source": [
        "# 6. Test Model"
      ]
    },
    {
      "cell_type": "code",
      "execution_count": null,
      "id": "a4682c49",
      "metadata": {
        "id": "a4682c49"
      },
      "outputs": [],
      "source": [
        "episodes = 5 \n",
        "for episode in range(1, episodes+1):\n",
        "  obs = env.reset()\n",
        "  # gives the initial observation for the environment \n",
        "  \n",
        "  done = False\n",
        "  score = 0\n",
        "\n",
        "  while not done:\n",
        "    env.render()\n",
        "    action , _ = model.predict(obs) # Now USING MODEL HERE!\n",
        "    obs, reward, done, info = env.step(action)\n",
        "    score += reward\n",
        "  print (\"Episode: {} Score: {}\".format(episode, score))\n",
        "\n",
        "env.close()"
      ]
    }
  ],
  "metadata": {
    "accelerator": "GPU",
    "colab": {
      "collapsed_sections": [
        "7ecd1553",
        "jjxOxam1mL8F",
        "a6RMgia6I_Gx",
        "pHK_kIdtnOJK",
        "uXffM6minS61"
      ],
      "name": "car-racing-rl.ipynb",
      "provenance": []
    },
    "gpuClass": "standard",
    "kernelspec": {
      "display_name": "Python 3.8.9 ('rl-tutorial')",
      "language": "python",
      "name": "python3"
    },
    "language_info": {
      "codemirror_mode": {
        "name": "ipython",
        "version": 3
      },
      "file_extension": ".py",
      "mimetype": "text/x-python",
      "name": "python",
      "nbconvert_exporter": "python",
      "pygments_lexer": "ipython3",
      "version": "3.8.9"
    },
    "vscode": {
      "interpreter": {
        "hash": "c19fc06454f64921cb2d8b7ffc90265522756b29ee01f72d99d03fa995c639e7"
      }
    }
  },
  "nbformat": 4,
  "nbformat_minor": 5
}
