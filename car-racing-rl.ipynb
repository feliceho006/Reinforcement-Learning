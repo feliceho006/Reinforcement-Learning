{
 "cells": [
  {
   "cell_type": "markdown",
   "id": "1150ab91",
   "metadata": {},
   "source": [
    "# 1. Installing and Importing Dependencies"
   ]
  },
  {
   "cell_type": "code",
   "execution_count": 7,
   "id": "cff2d950",
   "metadata": {},
   "outputs": [
    {
     "name": "stdout",
     "output_type": "stream",
     "text": [
      "Requirement already satisfied: stable-baselines3[extra] in /Users/caydengwee/Coding/.virtualenvs/rl-tutorial/lib/python3.8/site-packages (1.4.0)\n",
      "Requirement already satisfied: pandas in /Users/caydengwee/Coding/.virtualenvs/rl-tutorial/lib/python3.8/site-packages (from stable-baselines3[extra]) (1.4.0)\n",
      "Requirement already satisfied: matplotlib in /Users/caydengwee/Coding/.virtualenvs/rl-tutorial/lib/python3.8/site-packages (from stable-baselines3[extra]) (3.5.1)\n",
      "Requirement already satisfied: torch>=1.8.1 in /Users/caydengwee/Coding/.virtualenvs/rl-tutorial/lib/python3.8/site-packages (from stable-baselines3[extra]) (1.10.2)\n",
      "Requirement already satisfied: cloudpickle in /Users/caydengwee/Coding/.virtualenvs/rl-tutorial/lib/python3.8/site-packages (from stable-baselines3[extra]) (1.6.0)\n",
      "Collecting gym<0.20,>=0.17\n",
      "  Using cached gym-0.19.0-py3-none-any.whl\n",
      "Requirement already satisfied: numpy in /Users/caydengwee/Coding/.virtualenvs/rl-tutorial/lib/python3.8/site-packages (from stable-baselines3[extra]) (1.22.2)\n",
      "Requirement already satisfied: tensorboard>=2.2.0 in /Users/caydengwee/Coding/.virtualenvs/rl-tutorial/lib/python3.8/site-packages (from stable-baselines3[extra]) (2.8.0)\n",
      "Requirement already satisfied: opencv-python in /Users/caydengwee/Coding/.virtualenvs/rl-tutorial/lib/python3.8/site-packages (from stable-baselines3[extra]) (4.5.5.62)\n",
      "Requirement already satisfied: atari-py==0.2.6 in /Users/caydengwee/Coding/.virtualenvs/rl-tutorial/lib/python3.8/site-packages (from stable-baselines3[extra]) (0.2.6)\n",
      "Requirement already satisfied: psutil in /Users/caydengwee/Coding/.virtualenvs/rl-tutorial/lib/python3.8/site-packages (from stable-baselines3[extra]) (5.9.0)\n",
      "Requirement already satisfied: pillow in /Users/caydengwee/Coding/.virtualenvs/rl-tutorial/lib/python3.8/site-packages (from stable-baselines3[extra]) (9.0.1)\n",
      "Requirement already satisfied: six in /Users/caydengwee/Coding/.virtualenvs/rl-tutorial/lib/python3.8/site-packages (from atari-py==0.2.6->stable-baselines3[extra]) (1.16.0)\n",
      "Requirement already satisfied: werkzeug>=0.11.15 in /Users/caydengwee/Coding/.virtualenvs/rl-tutorial/lib/python3.8/site-packages (from tensorboard>=2.2.0->stable-baselines3[extra]) (2.0.2)\n",
      "Requirement already satisfied: markdown>=2.6.8 in /Users/caydengwee/Coding/.virtualenvs/rl-tutorial/lib/python3.8/site-packages (from tensorboard>=2.2.0->stable-baselines3[extra]) (3.3.6)\n",
      "Requirement already satisfied: wheel>=0.26 in /Users/caydengwee/Coding/.virtualenvs/rl-tutorial/lib/python3.8/site-packages (from tensorboard>=2.2.0->stable-baselines3[extra]) (0.37.1)\n",
      "Requirement already satisfied: google-auth-oauthlib<0.5,>=0.4.1 in /Users/caydengwee/Coding/.virtualenvs/rl-tutorial/lib/python3.8/site-packages (from tensorboard>=2.2.0->stable-baselines3[extra]) (0.4.6)\n",
      "Requirement already satisfied: grpcio>=1.24.3 in /Users/caydengwee/Coding/.virtualenvs/rl-tutorial/lib/python3.8/site-packages (from tensorboard>=2.2.0->stable-baselines3[extra]) (1.43.0)\n",
      "Requirement already satisfied: protobuf>=3.6.0 in /Users/caydengwee/Coding/.virtualenvs/rl-tutorial/lib/python3.8/site-packages (from tensorboard>=2.2.0->stable-baselines3[extra]) (3.19.4)\n",
      "Requirement already satisfied: absl-py>=0.4 in /Users/caydengwee/Coding/.virtualenvs/rl-tutorial/lib/python3.8/site-packages (from tensorboard>=2.2.0->stable-baselines3[extra]) (1.0.0)\n",
      "Requirement already satisfied: setuptools>=41.0.0 in /Users/caydengwee/Coding/.virtualenvs/rl-tutorial/lib/python3.8/site-packages (from tensorboard>=2.2.0->stable-baselines3[extra]) (60.5.0)\n",
      "Requirement already satisfied: requests<3,>=2.21.0 in /Users/caydengwee/Coding/.virtualenvs/rl-tutorial/lib/python3.8/site-packages (from tensorboard>=2.2.0->stable-baselines3[extra]) (2.27.1)\n",
      "Requirement already satisfied: tensorboard-plugin-wit>=1.6.0 in /Users/caydengwee/Coding/.virtualenvs/rl-tutorial/lib/python3.8/site-packages (from tensorboard>=2.2.0->stable-baselines3[extra]) (1.8.1)\n",
      "Requirement already satisfied: tensorboard-data-server<0.7.0,>=0.6.0 in /Users/caydengwee/Coding/.virtualenvs/rl-tutorial/lib/python3.8/site-packages (from tensorboard>=2.2.0->stable-baselines3[extra]) (0.6.1)\n",
      "Requirement already satisfied: google-auth<3,>=1.6.3 in /Users/caydengwee/Coding/.virtualenvs/rl-tutorial/lib/python3.8/site-packages (from tensorboard>=2.2.0->stable-baselines3[extra]) (2.6.0)\n",
      "Requirement already satisfied: typing-extensions in /Users/caydengwee/Coding/.virtualenvs/rl-tutorial/lib/python3.8/site-packages (from torch>=1.8.1->stable-baselines3[extra]) (4.0.1)\n",
      "Requirement already satisfied: python-dateutil>=2.7 in /Users/caydengwee/Coding/.virtualenvs/rl-tutorial/lib/python3.8/site-packages (from matplotlib->stable-baselines3[extra]) (2.8.2)\n",
      "Requirement already satisfied: fonttools>=4.22.0 in /Users/caydengwee/Coding/.virtualenvs/rl-tutorial/lib/python3.8/site-packages (from matplotlib->stable-baselines3[extra]) (4.29.1)\n",
      "Requirement already satisfied: packaging>=20.0 in /Users/caydengwee/Coding/.virtualenvs/rl-tutorial/lib/python3.8/site-packages (from matplotlib->stable-baselines3[extra]) (21.3)\n",
      "Requirement already satisfied: pyparsing>=2.2.1 in /Users/caydengwee/Coding/.virtualenvs/rl-tutorial/lib/python3.8/site-packages (from matplotlib->stable-baselines3[extra]) (3.0.7)\n",
      "Requirement already satisfied: kiwisolver>=1.0.1 in /Users/caydengwee/Coding/.virtualenvs/rl-tutorial/lib/python3.8/site-packages (from matplotlib->stable-baselines3[extra]) (1.3.2)\n",
      "Requirement already satisfied: cycler>=0.10 in /Users/caydengwee/Coding/.virtualenvs/rl-tutorial/lib/python3.8/site-packages (from matplotlib->stable-baselines3[extra]) (0.11.0)\n",
      "Requirement already satisfied: pytz>=2020.1 in /Users/caydengwee/Coding/.virtualenvs/rl-tutorial/lib/python3.8/site-packages (from pandas->stable-baselines3[extra]) (2021.3)\n",
      "Requirement already satisfied: rsa<5,>=3.1.4 in /Users/caydengwee/Coding/.virtualenvs/rl-tutorial/lib/python3.8/site-packages (from google-auth<3,>=1.6.3->tensorboard>=2.2.0->stable-baselines3[extra]) (4.8)\n",
      "Requirement already satisfied: pyasn1-modules>=0.2.1 in /Users/caydengwee/Coding/.virtualenvs/rl-tutorial/lib/python3.8/site-packages (from google-auth<3,>=1.6.3->tensorboard>=2.2.0->stable-baselines3[extra]) (0.2.8)\n",
      "Requirement already satisfied: cachetools<6.0,>=2.0.0 in /Users/caydengwee/Coding/.virtualenvs/rl-tutorial/lib/python3.8/site-packages (from google-auth<3,>=1.6.3->tensorboard>=2.2.0->stable-baselines3[extra]) (5.0.0)\n",
      "Requirement already satisfied: requests-oauthlib>=0.7.0 in /Users/caydengwee/Coding/.virtualenvs/rl-tutorial/lib/python3.8/site-packages (from google-auth-oauthlib<0.5,>=0.4.1->tensorboard>=2.2.0->stable-baselines3[extra]) (1.3.1)\n",
      "Requirement already satisfied: importlib-metadata>=4.4 in /Users/caydengwee/Coding/.virtualenvs/rl-tutorial/lib/python3.8/site-packages (from markdown>=2.6.8->tensorboard>=2.2.0->stable-baselines3[extra]) (4.10.1)\n",
      "Requirement already satisfied: urllib3<1.27,>=1.21.1 in /Users/caydengwee/Coding/.virtualenvs/rl-tutorial/lib/python3.8/site-packages (from requests<3,>=2.21.0->tensorboard>=2.2.0->stable-baselines3[extra]) (1.26.8)\n",
      "Requirement already satisfied: idna<4,>=2.5 in /Users/caydengwee/Coding/.virtualenvs/rl-tutorial/lib/python3.8/site-packages (from requests<3,>=2.21.0->tensorboard>=2.2.0->stable-baselines3[extra]) (3.3)\n",
      "Requirement already satisfied: charset-normalizer~=2.0.0 in /Users/caydengwee/Coding/.virtualenvs/rl-tutorial/lib/python3.8/site-packages (from requests<3,>=2.21.0->tensorboard>=2.2.0->stable-baselines3[extra]) (2.0.11)\n",
      "Requirement already satisfied: certifi>=2017.4.17 in /Users/caydengwee/Coding/.virtualenvs/rl-tutorial/lib/python3.8/site-packages (from requests<3,>=2.21.0->tensorboard>=2.2.0->stable-baselines3[extra]) (2021.10.8)\n",
      "Requirement already satisfied: zipp>=0.5 in /Users/caydengwee/Coding/.virtualenvs/rl-tutorial/lib/python3.8/site-packages (from importlib-metadata>=4.4->markdown>=2.6.8->tensorboard>=2.2.0->stable-baselines3[extra]) (3.7.0)\n",
      "Requirement already satisfied: pyasn1<0.5.0,>=0.4.6 in /Users/caydengwee/Coding/.virtualenvs/rl-tutorial/lib/python3.8/site-packages (from pyasn1-modules>=0.2.1->google-auth<3,>=1.6.3->tensorboard>=2.2.0->stable-baselines3[extra]) (0.4.8)\n",
      "Requirement already satisfied: oauthlib>=3.0.0 in /Users/caydengwee/Coding/.virtualenvs/rl-tutorial/lib/python3.8/site-packages (from requests-oauthlib>=0.7.0->google-auth-oauthlib<0.5,>=0.4.1->tensorboard>=2.2.0->stable-baselines3[extra]) (3.2.0)\n",
      "Installing collected packages: gym\n",
      "  Attempting uninstall: gym\n",
      "    Found existing installation: gym 0.24.1\n",
      "    Uninstalling gym-0.24.1:\n",
      "      Successfully uninstalled gym-0.24.1\n",
      "Successfully installed gym-0.19.0\n",
      "\u001b[33mWARNING: You are using pip version 21.3.1; however, version 22.1.2 is available.\n",
      "You should consider upgrading via the '/Users/caydengwee/Coding/.virtualenvs/rl-tutorial/bin/python -m pip install --upgrade pip' command.\u001b[0m\n"
     ]
    }
   ],
   "source": [
    "# Make sure you are using the rl-tutorial environment\n",
    "# !pip install 'stable-baselines3[extra]'"
   ]
  },
  {
   "cell_type": "code",
   "execution_count": 8,
   "id": "fcec8f16",
   "metadata": {},
   "outputs": [
    {
     "name": "stdout",
     "output_type": "stream",
     "text": [
      "Requirement already satisfied: pyglet in /Users/caydengwee/Coding/.virtualenvs/rl-tutorial/lib/python3.8/site-packages (1.5.21)\n",
      "\u001b[33mWARNING: You are using pip version 21.3.1; however, version 22.1.2 is available.\n",
      "You should consider upgrading via the '/Users/caydengwee/Coding/.virtualenvs/rl-tutorial/bin/python -m pip install --upgrade pip' command.\u001b[0m\n"
     ]
    }
   ],
   "source": [
    "!pip install pyglet"
   ]
  },
  {
   "cell_type": "code",
   "execution_count": 1,
   "id": "645584a5",
   "metadata": {},
   "outputs": [],
   "source": [
    "import os\n",
    "import gym \n",
    "# openAI gym , allows us to build environemnt and work with preexisting environemnts\n",
    "\n",
    "# from stable_baselines3 import PPO \n",
    "\n",
    "# from stable_baselines3.common.vec_env import DummyVecEnv \n",
    "# # Allows you to train your agent on different environments. \n",
    "\n",
    "# from stable_baselines3.common.evaluation import evaluate_policy \n",
    "# Makes it easier to test out our model. Get average reward over number episodes.\n"
   ]
  },
  {
   "cell_type": "code",
   "execution_count": 2,
   "id": "1feae8d2",
   "metadata": {},
   "outputs": [
    {
     "data": {
      "text/plain": [
       "'0.24.1'"
      ]
     },
     "execution_count": 2,
     "metadata": {},
     "output_type": "execute_result"
    }
   ],
   "source": [
    "gym.__version__"
   ]
  },
  {
   "cell_type": "markdown",
   "id": "7ecd1553",
   "metadata": {},
   "source": [
    "# 2. Loading the environment"
   ]
  },
  {
   "cell_type": "code",
   "execution_count": 4,
   "id": "8ba5e99c",
   "metadata": {},
   "outputs": [
    {
     "name": "stderr",
     "output_type": "stream",
     "text": [
      "/Users/caydengwee/Coding/.virtualenvs/rl-tutorial/lib/python3.8/site-packages/gym/utils/passive_env_checker.py:97: UserWarning: \u001b[33mWARN: We recommend you to use a symmetric and normalized Box action space (range=[-1, 1]) https://stable-baselines3.readthedocs.io/en/master/guide/rl_tips.html\u001b[0m\n",
      "  logger.warn(\n"
     ]
    }
   ],
   "source": [
    "# environment_name = \"CarRacing-v2\"\n",
    "# env = gym.make(environment_name)\n",
    "\n",
    "env = gym.make('CarRacing-v1')"
   ]
  },
  {
   "cell_type": "code",
   "execution_count": 5,
   "id": "d9016d04",
   "metadata": {},
   "outputs": [
    {
     "name": "stdout",
     "output_type": "stream",
     "text": [
      "Episode: 1 Score: -42.77108433735008\n",
      "Episode: 2 Score: -27.797833935018403\n",
      "Episode: 3 Score: -26.199261992620176\n",
      "Episode: 4 Score: -37.50000000000058\n",
      "Episode: 5 Score: -37.50000000000064\n",
      "Window should be closed\n"
     ]
    }
   ],
   "source": [
    "episodes = 5 \n",
    "for episode in range(1, episodes+1):\n",
    "  state = env.reset()\n",
    "  # gives the initial observation for the environment \n",
    "  \n",
    "  done = False\n",
    "  score = 0\n",
    "\n",
    "  while not done:\n",
    "    env.render()\n",
    "    action = env.action_space.sample()\n",
    "    n_state, reward, done, info = env.step(action)\n",
    "    score += reward\n",
    "  print (\"Episode: {} Score: {}\".format(episode, score))\n",
    "\n",
    "\n",
    "env.close()\n",
    "print(\"Window should be closed\")"
   ]
  },
  {
   "cell_type": "code",
   "execution_count": 6,
   "id": "b30f34d5",
   "metadata": {},
   "outputs": [
    {
     "data": {
      "text/plain": [
       "Box([-1.  0.  0.], 1.0, (3,), float32)"
      ]
     },
     "execution_count": 6,
     "metadata": {},
     "output_type": "execute_result"
    }
   ],
   "source": [
    "env.action_space"
   ]
  },
  {
   "cell_type": "code",
   "execution_count": 7,
   "id": "58e5fed6",
   "metadata": {},
   "outputs": [
    {
     "data": {
      "text/plain": [
       "Box([-4.8000002e+00 -3.4028235e+38 -4.1887903e-01 -3.4028235e+38], [4.8000002e+00 3.4028235e+38 4.1887903e-01 3.4028235e+38], (4,), float32)"
      ]
     },
     "execution_count": 7,
     "metadata": {},
     "output_type": "execute_result"
    }
   ],
   "source": [
    "env.observation_space"
   ]
  },
  {
   "cell_type": "code",
   "execution_count": 8,
   "id": "4d09c75b",
   "metadata": {},
   "outputs": [
    {
     "data": {
      "text/plain": [
       "(array([ 0.03135575,  0.16955484, -0.02874754, -0.25300589]), 1.0, False, {})"
      ]
     },
     "execution_count": 8,
     "metadata": {},
     "output_type": "execute_result"
    }
   ],
   "source": [
    "env.reset()\n",
    "env.step(1)"
   ]
  },
  {
   "cell_type": "markdown",
   "id": "e46ecaf3",
   "metadata": {},
   "source": [
    "## Understanding the environment"
   ]
  },
  {
   "cell_type": "markdown",
   "id": "b041f3cc",
   "metadata": {},
   "source": [
    "https://github.com/openai/gym/blob/master/gym/envs/classic_control/cartpole.py"
   ]
  },
  {
   "cell_type": "code",
   "execution_count": 9,
   "id": "7c950f0f",
   "metadata": {},
   "outputs": [
    {
     "data": {
      "text/plain": [
       "0"
      ]
     },
     "execution_count": 9,
     "metadata": {},
     "output_type": "execute_result"
    }
   ],
   "source": [
    "env.action_space.sample()"
   ]
  },
  {
   "cell_type": "code",
   "execution_count": 10,
   "id": "2ec856d1",
   "metadata": {},
   "outputs": [
    {
     "data": {
      "text/plain": [
       "array([-3.6388180e-01, -9.4070830e+37, -2.3769679e-02, -2.2716420e+38],\n",
       "      dtype=float32)"
      ]
     },
     "execution_count": 10,
     "metadata": {},
     "output_type": "execute_result"
    }
   ],
   "source": [
    "env.observation_space.sample()"
   ]
  },
  {
   "cell_type": "markdown",
   "id": "77035e11",
   "metadata": {},
   "source": [
    "# Train an RL Model"
   ]
  },
  {
   "cell_type": "code",
   "execution_count": 11,
   "id": "c270ef3f",
   "metadata": {},
   "outputs": [],
   "source": [
    "# Make your directories first!\n",
    "log_path = os.path.join(\"Training\", \"Logs\")"
   ]
  },
  {
   "cell_type": "code",
   "execution_count": 12,
   "id": "955c1447",
   "metadata": {},
   "outputs": [
    {
     "data": {
      "text/plain": [
       "'Training/Logs'"
      ]
     },
     "execution_count": 12,
     "metadata": {},
     "output_type": "execute_result"
    }
   ],
   "source": [
    "log_path"
   ]
  },
  {
   "cell_type": "code",
   "execution_count": 13,
   "id": "de900503",
   "metadata": {},
   "outputs": [],
   "source": [
    "env = gym.make(environment_name)"
   ]
  },
  {
   "cell_type": "code",
   "execution_count": 14,
   "id": "5aa17423",
   "metadata": {},
   "outputs": [
    {
     "name": "stdout",
     "output_type": "stream",
     "text": [
      "Using cpu device\n"
     ]
    }
   ],
   "source": [
    "env = DummyVecEnv([lambda: env]) # Wrapper for a non-vectorized environment\n",
    "model = PPO('MlpPolicy', env, verbose=1, tensorboard_log=log_path) # multilayer perceptron policy"
   ]
  },
  {
   "cell_type": "code",
   "execution_count": 15,
   "id": "544cb8ed",
   "metadata": {},
   "outputs": [
    {
     "name": "stdout",
     "output_type": "stream",
     "text": [
      "Logging to Training/Logs/PPO_3\n",
      "-----------------------------\n",
      "| time/              |      |\n",
      "|    fps             | 6607 |\n",
      "|    iterations      | 1    |\n",
      "|    time_elapsed    | 0    |\n",
      "|    total_timesteps | 2048 |\n",
      "-----------------------------\n",
      "-----------------------------------------\n",
      "| time/                   |             |\n",
      "|    fps                  | 4372        |\n",
      "|    iterations           | 2           |\n",
      "|    time_elapsed         | 0           |\n",
      "|    total_timesteps      | 4096        |\n",
      "| train/                  |             |\n",
      "|    approx_kl            | 0.007815102 |\n",
      "|    clip_fraction        | 0.0979      |\n",
      "|    clip_range           | 0.2         |\n",
      "|    entropy_loss         | -0.686      |\n",
      "|    explained_variance   | -0.00131    |\n",
      "|    learning_rate        | 0.0003      |\n",
      "|    loss                 | 8.37        |\n",
      "|    n_updates            | 10          |\n",
      "|    policy_gradient_loss | -0.0151     |\n",
      "|    value_loss           | 52.1        |\n",
      "-----------------------------------------\n",
      "----------------------------------------\n",
      "| time/                   |            |\n",
      "|    fps                  | 3906       |\n",
      "|    iterations           | 3          |\n",
      "|    time_elapsed         | 1          |\n",
      "|    total_timesteps      | 6144       |\n",
      "| train/                  |            |\n",
      "|    approx_kl            | 0.00956113 |\n",
      "|    clip_fraction        | 0.0613     |\n",
      "|    clip_range           | 0.2        |\n",
      "|    entropy_loss         | -0.667     |\n",
      "|    explained_variance   | 0.0707     |\n",
      "|    learning_rate        | 0.0003     |\n",
      "|    loss                 | 14.8       |\n",
      "|    n_updates            | 20         |\n",
      "|    policy_gradient_loss | -0.0172    |\n",
      "|    value_loss           | 35         |\n",
      "----------------------------------------\n",
      "------------------------------------------\n",
      "| time/                   |              |\n",
      "|    fps                  | 3708         |\n",
      "|    iterations           | 4            |\n",
      "|    time_elapsed         | 2            |\n",
      "|    total_timesteps      | 8192         |\n",
      "| train/                  |              |\n",
      "|    approx_kl            | 0.0075954525 |\n",
      "|    clip_fraction        | 0.0779       |\n",
      "|    clip_range           | 0.2          |\n",
      "|    entropy_loss         | -0.637       |\n",
      "|    explained_variance   | 0.212        |\n",
      "|    learning_rate        | 0.0003       |\n",
      "|    loss                 | 20.9         |\n",
      "|    n_updates            | 30           |\n",
      "|    policy_gradient_loss | -0.018       |\n",
      "|    value_loss           | 51           |\n",
      "------------------------------------------\n",
      "-----------------------------------------\n",
      "| time/                   |             |\n",
      "|    fps                  | 3615        |\n",
      "|    iterations           | 5           |\n",
      "|    time_elapsed         | 2           |\n",
      "|    total_timesteps      | 10240       |\n",
      "| train/                  |             |\n",
      "|    approx_kl            | 0.009155948 |\n",
      "|    clip_fraction        | 0.086       |\n",
      "|    clip_range           | 0.2         |\n",
      "|    entropy_loss         | -0.609      |\n",
      "|    explained_variance   | 0.337       |\n",
      "|    learning_rate        | 0.0003      |\n",
      "|    loss                 | 22.1        |\n",
      "|    n_updates            | 40          |\n",
      "|    policy_gradient_loss | -0.0198     |\n",
      "|    value_loss           | 63.4        |\n",
      "-----------------------------------------\n",
      "-----------------------------------------\n",
      "| time/                   |             |\n",
      "|    fps                  | 3550        |\n",
      "|    iterations           | 6           |\n",
      "|    time_elapsed         | 3           |\n",
      "|    total_timesteps      | 12288       |\n",
      "| train/                  |             |\n",
      "|    approx_kl            | 0.008545719 |\n",
      "|    clip_fraction        | 0.0633      |\n",
      "|    clip_range           | 0.2         |\n",
      "|    entropy_loss         | -0.581      |\n",
      "|    explained_variance   | 0.361       |\n",
      "|    learning_rate        | 0.0003      |\n",
      "|    loss                 | 25.2        |\n",
      "|    n_updates            | 50          |\n",
      "|    policy_gradient_loss | -0.0144     |\n",
      "|    value_loss           | 73.4        |\n",
      "-----------------------------------------\n",
      "-----------------------------------------\n",
      "| time/                   |             |\n",
      "|    fps                  | 3505        |\n",
      "|    iterations           | 7           |\n",
      "|    time_elapsed         | 4           |\n",
      "|    total_timesteps      | 14336       |\n",
      "| train/                  |             |\n",
      "|    approx_kl            | 0.010269653 |\n",
      "|    clip_fraction        | 0.124       |\n",
      "|    clip_range           | 0.2         |\n",
      "|    entropy_loss         | -0.567      |\n",
      "|    explained_variance   | 0.556       |\n",
      "|    learning_rate        | 0.0003      |\n",
      "|    loss                 | 24.8        |\n",
      "|    n_updates            | 60          |\n",
      "|    policy_gradient_loss | -0.0146     |\n",
      "|    value_loss           | 61.9        |\n",
      "-----------------------------------------\n",
      "------------------------------------------\n",
      "| time/                   |              |\n",
      "|    fps                  | 3467         |\n",
      "|    iterations           | 8            |\n",
      "|    time_elapsed         | 4            |\n",
      "|    total_timesteps      | 16384        |\n",
      "| train/                  |              |\n",
      "|    approx_kl            | 0.0035258238 |\n",
      "|    clip_fraction        | 0.0242       |\n",
      "|    clip_range           | 0.2          |\n",
      "|    entropy_loss         | -0.585       |\n",
      "|    explained_variance   | 0.667        |\n",
      "|    learning_rate        | 0.0003       |\n",
      "|    loss                 | 4.87         |\n",
      "|    n_updates            | 70           |\n",
      "|    policy_gradient_loss | -0.00536     |\n",
      "|    value_loss           | 34.5         |\n",
      "------------------------------------------\n",
      "-----------------------------------------\n",
      "| time/                   |             |\n",
      "|    fps                  | 3423        |\n",
      "|    iterations           | 9           |\n",
      "|    time_elapsed         | 5           |\n",
      "|    total_timesteps      | 18432       |\n",
      "| train/                  |             |\n",
      "|    approx_kl            | 0.010068681 |\n",
      "|    clip_fraction        | 0.078       |\n",
      "|    clip_range           | 0.2         |\n",
      "|    entropy_loss         | -0.568      |\n",
      "|    explained_variance   | 0.52        |\n",
      "|    learning_rate        | 0.0003      |\n",
      "|    loss                 | 8.1         |\n",
      "|    n_updates            | 80          |\n",
      "|    policy_gradient_loss | -0.0105     |\n",
      "|    value_loss           | 47.4        |\n",
      "-----------------------------------------\n",
      "--------------------------------------\n",
      "| time/                   |          |\n",
      "|    fps                  | 3406     |\n",
      "|    iterations           | 10       |\n",
      "|    time_elapsed         | 6        |\n",
      "|    total_timesteps      | 20480    |\n",
      "| train/                  |          |\n",
      "|    approx_kl            | 0.0043   |\n",
      "|    clip_fraction        | 0.0357   |\n",
      "|    clip_range           | 0.2      |\n",
      "|    entropy_loss         | -0.566   |\n",
      "|    explained_variance   | 0.478    |\n",
      "|    learning_rate        | 0.0003   |\n",
      "|    loss                 | 10.4     |\n",
      "|    n_updates            | 90       |\n",
      "|    policy_gradient_loss | -0.00759 |\n",
      "|    value_loss           | 45.7     |\n",
      "--------------------------------------\n"
     ]
    },
    {
     "data": {
      "text/plain": [
       "<stable_baselines3.ppo.ppo.PPO at 0x17fc07a90>"
      ]
     },
     "execution_count": 15,
     "metadata": {},
     "output_type": "execute_result"
    }
   ],
   "source": [
    "model.learn(total_timesteps=20000)"
   ]
  },
  {
   "cell_type": "markdown",
   "id": "a69d8565",
   "metadata": {},
   "source": [
    "# 4. Save and Reload Model"
   ]
  },
  {
   "cell_type": "code",
   "execution_count": 16,
   "id": "e5792447",
   "metadata": {},
   "outputs": [],
   "source": [
    "PPO_Path = os.path.join(\"Training\", \"Saved Models\", \"PPO_Model_Cartpole\")"
   ]
  },
  {
   "cell_type": "code",
   "execution_count": 17,
   "id": "3795f2fe",
   "metadata": {},
   "outputs": [],
   "source": [
    "model.save(PPO_Path)"
   ]
  },
  {
   "cell_type": "code",
   "execution_count": 18,
   "id": "e2f5acd3",
   "metadata": {},
   "outputs": [],
   "source": [
    "del model"
   ]
  },
  {
   "cell_type": "code",
   "execution_count": 19,
   "id": "cdff3ff4",
   "metadata": {},
   "outputs": [],
   "source": [
    "model = PPO.load(PPO_Path, env=env)"
   ]
  },
  {
   "cell_type": "code",
   "execution_count": 20,
   "id": "84b2d8e4",
   "metadata": {},
   "outputs": [
    {
     "name": "stdout",
     "output_type": "stream",
     "text": [
      "Logging to Training/Logs/PPO_4\n",
      "-----------------------------\n",
      "| time/              |      |\n",
      "|    fps             | 6669 |\n",
      "|    iterations      | 1    |\n",
      "|    time_elapsed    | 0    |\n",
      "|    total_timesteps | 2048 |\n",
      "-----------------------------\n",
      "----------------------------------------\n",
      "| time/                   |            |\n",
      "|    fps                  | 4428       |\n",
      "|    iterations           | 2          |\n",
      "|    time_elapsed         | 0          |\n",
      "|    total_timesteps      | 4096       |\n",
      "| train/                  |            |\n",
      "|    approx_kl            | 0.00487105 |\n",
      "|    clip_fraction        | 0.021      |\n",
      "|    clip_range           | 0.2        |\n",
      "|    entropy_loss         | -0.525     |\n",
      "|    explained_variance   | 0.0862     |\n",
      "|    learning_rate        | 0.0003     |\n",
      "|    loss                 | 27         |\n",
      "|    n_updates            | 110        |\n",
      "|    policy_gradient_loss | -0.000209  |\n",
      "|    value_loss           | 24.2       |\n",
      "----------------------------------------\n",
      "------------------------------------------\n",
      "| time/                   |              |\n",
      "|    fps                  | 3946         |\n",
      "|    iterations           | 3            |\n",
      "|    time_elapsed         | 1            |\n",
      "|    total_timesteps      | 6144         |\n",
      "| train/                  |              |\n",
      "|    approx_kl            | 0.0063846456 |\n",
      "|    clip_fraction        | 0.062        |\n",
      "|    clip_range           | 0.2          |\n",
      "|    entropy_loss         | -0.533       |\n",
      "|    explained_variance   | 0.84         |\n",
      "|    learning_rate        | 0.0003       |\n",
      "|    loss                 | 0.698        |\n",
      "|    n_updates            | 120          |\n",
      "|    policy_gradient_loss | -0.00865     |\n",
      "|    value_loss           | 4.89         |\n",
      "------------------------------------------\n",
      "-----------------------------------------\n",
      "| time/                   |             |\n",
      "|    fps                  | 3732        |\n",
      "|    iterations           | 4           |\n",
      "|    time_elapsed         | 2           |\n",
      "|    total_timesteps      | 8192        |\n",
      "| train/                  |             |\n",
      "|    approx_kl            | 0.004774864 |\n",
      "|    clip_fraction        | 0.0323      |\n",
      "|    clip_range           | 0.2         |\n",
      "|    entropy_loss         | -0.524      |\n",
      "|    explained_variance   | 0.0201      |\n",
      "|    learning_rate        | 0.0003      |\n",
      "|    loss                 | 13          |\n",
      "|    n_updates            | 130         |\n",
      "|    policy_gradient_loss | -0.00529    |\n",
      "|    value_loss           | 42.3        |\n",
      "-----------------------------------------\n",
      "-----------------------------------------\n",
      "| time/                   |             |\n",
      "|    fps                  | 3621        |\n",
      "|    iterations           | 5           |\n",
      "|    time_elapsed         | 2           |\n",
      "|    total_timesteps      | 10240       |\n",
      "| train/                  |             |\n",
      "|    approx_kl            | 0.018354684 |\n",
      "|    clip_fraction        | 0.186       |\n",
      "|    clip_range           | 0.2         |\n",
      "|    entropy_loss         | -0.521      |\n",
      "|    explained_variance   | -0.266      |\n",
      "|    learning_rate        | 0.0003      |\n",
      "|    loss                 | 0.463       |\n",
      "|    n_updates            | 140         |\n",
      "|    policy_gradient_loss | -0.00934    |\n",
      "|    value_loss           | 2.83        |\n",
      "-----------------------------------------\n",
      "------------------------------------------\n",
      "| time/                   |              |\n",
      "|    fps                  | 3567         |\n",
      "|    iterations           | 6            |\n",
      "|    time_elapsed         | 3            |\n",
      "|    total_timesteps      | 12288        |\n",
      "| train/                  |              |\n",
      "|    approx_kl            | 0.0070327986 |\n",
      "|    clip_fraction        | 0.0895       |\n",
      "|    clip_range           | 0.2          |\n",
      "|    entropy_loss         | -0.519       |\n",
      "|    explained_variance   | 0.888        |\n",
      "|    learning_rate        | 0.0003       |\n",
      "|    loss                 | 0.657        |\n",
      "|    n_updates            | 150          |\n",
      "|    policy_gradient_loss | -0.0114      |\n",
      "|    value_loss           | 3.37         |\n",
      "------------------------------------------\n",
      "-----------------------------------------\n",
      "| time/                   |             |\n",
      "|    fps                  | 3530        |\n",
      "|    iterations           | 7           |\n",
      "|    time_elapsed         | 4           |\n",
      "|    total_timesteps      | 14336       |\n",
      "| train/                  |             |\n",
      "|    approx_kl            | 0.010227509 |\n",
      "|    clip_fraction        | 0.109       |\n",
      "|    clip_range           | 0.2         |\n",
      "|    entropy_loss         | -0.512      |\n",
      "|    explained_variance   | 0.785       |\n",
      "|    learning_rate        | 0.0003      |\n",
      "|    loss                 | 0.288       |\n",
      "|    n_updates            | 160         |\n",
      "|    policy_gradient_loss | -0.0148     |\n",
      "|    value_loss           | 1.18        |\n",
      "-----------------------------------------\n",
      "-----------------------------------------\n",
      "| time/                   |             |\n",
      "|    fps                  | 3491        |\n",
      "|    iterations           | 8           |\n",
      "|    time_elapsed         | 4           |\n",
      "|    total_timesteps      | 16384       |\n",
      "| train/                  |             |\n",
      "|    approx_kl            | 0.005619304 |\n",
      "|    clip_fraction        | 0.0809      |\n",
      "|    clip_range           | 0.2         |\n",
      "|    entropy_loss         | -0.507      |\n",
      "|    explained_variance   | 0.43        |\n",
      "|    learning_rate        | 0.0003      |\n",
      "|    loss                 | 0.0778      |\n",
      "|    n_updates            | 170         |\n",
      "|    policy_gradient_loss | -0.00784    |\n",
      "|    value_loss           | 0.612       |\n",
      "-----------------------------------------\n",
      "------------------------------------------\n",
      "| time/                   |              |\n",
      "|    fps                  | 3468         |\n",
      "|    iterations           | 9            |\n",
      "|    time_elapsed         | 5            |\n",
      "|    total_timesteps      | 18432        |\n",
      "| train/                  |              |\n",
      "|    approx_kl            | 0.0050040605 |\n",
      "|    clip_fraction        | 0.0315       |\n",
      "|    clip_range           | 0.2          |\n",
      "|    entropy_loss         | -0.503       |\n",
      "|    explained_variance   | -0.0875      |\n",
      "|    learning_rate        | 0.0003       |\n",
      "|    loss                 | 0.0361       |\n",
      "|    n_updates            | 180          |\n",
      "|    policy_gradient_loss | -0.00196     |\n",
      "|    value_loss           | 0.402        |\n",
      "------------------------------------------\n",
      "-----------------------------------------\n",
      "| time/                   |             |\n",
      "|    fps                  | 3453        |\n",
      "|    iterations           | 10          |\n",
      "|    time_elapsed         | 5           |\n",
      "|    total_timesteps      | 20480       |\n",
      "| train/                  |             |\n",
      "|    approx_kl            | 0.004001719 |\n",
      "|    clip_fraction        | 0.0306      |\n",
      "|    clip_range           | 0.2         |\n",
      "|    entropy_loss         | -0.498      |\n",
      "|    explained_variance   | 0.0285      |\n",
      "|    learning_rate        | 0.0003      |\n",
      "|    loss                 | 0.0406      |\n",
      "|    n_updates            | 190         |\n",
      "|    policy_gradient_loss | -0.0032     |\n",
      "|    value_loss           | 0.265       |\n",
      "-----------------------------------------\n"
     ]
    },
    {
     "data": {
      "text/plain": [
       "<stable_baselines3.ppo.ppo.PPO at 0x17fc257f0>"
      ]
     },
     "execution_count": 20,
     "metadata": {},
     "output_type": "execute_result"
    }
   ],
   "source": [
    "model.learn(total_timesteps=20000)"
   ]
  },
  {
   "cell_type": "markdown",
   "id": "673249b3",
   "metadata": {},
   "source": [
    "# 5. Evaluation"
   ]
  },
  {
   "cell_type": "code",
   "execution_count": 21,
   "id": "7925c6b1",
   "metadata": {},
   "outputs": [
    {
     "name": "stderr",
     "output_type": "stream",
     "text": [
      "/Users/caydengwee/Coding/.virtualenvs/rl-tutorial/lib/python3.8/site-packages/stable_baselines3/common/evaluation.py:65: UserWarning: Evaluation environment is not wrapped with a ``Monitor`` wrapper. This may result in reporting modified episode lengths and rewards, if other wrappers happen to modify these. Consider wrapping environment first with ``Monitor`` wrapper.\n",
      "  warnings.warn(\n"
     ]
    },
    {
     "data": {
      "text/plain": [
       "(200.0, 0.0)"
      ]
     },
     "execution_count": 21,
     "metadata": {},
     "output_type": "execute_result"
    }
   ],
   "source": [
    "evaluate_policy(model, env, n_eval_episodes=10, render=True)"
   ]
  },
  {
   "cell_type": "markdown",
   "id": "27371887",
   "metadata": {},
   "source": [
    "# 6. Test Model"
   ]
  },
  {
   "cell_type": "code",
   "execution_count": 22,
   "id": "a4682c49",
   "metadata": {},
   "outputs": [
    {
     "name": "stdout",
     "output_type": "stream",
     "text": [
      "Episode: 1 Score: [200.]\n",
      "Episode: 2 Score: [200.]\n",
      "Episode: 3 Score: [200.]\n",
      "Episode: 4 Score: [200.]\n",
      "Episode: 5 Score: [200.]\n"
     ]
    }
   ],
   "source": [
    " episodes = 5 \n",
    "for episode in range(1, episodes+1):\n",
    "  obs = env.reset()\n",
    "  # gives the initial observation for the environment \n",
    "  \n",
    "  done = False\n",
    "  score = 0\n",
    "\n",
    "  while not done:\n",
    "    env.render()\n",
    "    action , _ = model.predict(obs) # Now USING MODEL HERE!\n",
    "    obs, reward, done, info = env.step(action)\n",
    "    score += reward\n",
    "  print (\"Episode: {} Score: {}\".format(episode, score))\n",
    "\n",
    "\n",
    "env.close()\n"
   ]
  },
  {
   "cell_type": "markdown",
   "id": "e1410048",
   "metadata": {},
   "source": [
    "# 7. Viewing Logs in Tensorboard"
   ]
  },
  {
   "cell_type": "code",
   "execution_count": null,
   "id": "c2007792",
   "metadata": {},
   "outputs": [],
   "source": []
  }
 ],
 "metadata": {
  "kernelspec": {
   "display_name": "Python 3.8.9 ('rl-tutorial')",
   "language": "python",
   "name": "python3"
  },
  "language_info": {
   "codemirror_mode": {
    "name": "ipython",
    "version": 3
   },
   "file_extension": ".py",
   "mimetype": "text/x-python",
   "name": "python",
   "nbconvert_exporter": "python",
   "pygments_lexer": "ipython3",
   "version": "3.8.9"
  },
  "vscode": {
   "interpreter": {
    "hash": "c19fc06454f64921cb2d8b7ffc90265522756b29ee01f72d99d03fa995c639e7"
   }
  }
 },
 "nbformat": 4,
 "nbformat_minor": 5
}
