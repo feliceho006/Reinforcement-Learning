{
  "cells": [
    {
      "cell_type": "markdown",
      "metadata": {
        "id": "1150ab91"
      },
      "source": [
        "# 1. Installing and Importing Dependencies"
      ],
      "id": "1150ab91"
    },
    {
      "cell_type": "code",
      "execution_count": 12,
      "metadata": {
        "id": "fcec8f16"
      },
      "outputs": [],
      "source": [
        "# !pip install pyglet"
      ],
      "id": "fcec8f16"
    },
    {
      "cell_type": "code",
      "execution_count": 2,
      "metadata": {
        "colab": {
          "base_uri": "https://localhost:8080/"
        },
        "id": "w-ssMnFLwBGL",
        "outputId": "906aeae5-c541-4af3-d3b2-9a82c2d068a0"
      },
      "outputs": [
        {
          "output_type": "stream",
          "name": "stdout",
          "text": [
            "Looking in indexes: https://pypi.org/simple, https://us-python.pkg.dev/colab-wheels/public/simple/\n",
            "Requirement already satisfied: gym[box2d] in /usr/local/lib/python3.7/dist-packages (0.24.1)\n",
            "Requirement already satisfied: gym-notices>=0.0.4 in /usr/local/lib/python3.7/dist-packages (from gym[box2d]) (0.0.7)\n",
            "Requirement already satisfied: cloudpickle>=1.2.0 in /usr/local/lib/python3.7/dist-packages (from gym[box2d]) (1.3.0)\n",
            "Requirement already satisfied: importlib-metadata>=4.8.0 in /usr/local/lib/python3.7/dist-packages (from gym[box2d]) (4.12.0)\n",
            "Requirement already satisfied: numpy>=1.18.0 in /usr/local/lib/python3.7/dist-packages (from gym[box2d]) (1.21.6)\n",
            "Requirement already satisfied: box2d-py==2.3.5 in /usr/local/lib/python3.7/dist-packages (from gym[box2d]) (2.3.5)\n",
            "Requirement already satisfied: pygame==2.1.0 in /usr/local/lib/python3.7/dist-packages (from gym[box2d]) (2.1.0)\n",
            "Requirement already satisfied: zipp>=0.5 in /usr/local/lib/python3.7/dist-packages (from importlib-metadata>=4.8.0->gym[box2d]) (3.8.1)\n",
            "Requirement already satisfied: typing-extensions>=3.6.4 in /usr/local/lib/python3.7/dist-packages (from importlib-metadata>=4.8.0->gym[box2d]) (4.1.1)\n"
          ]
        }
      ],
      "source": [
        "!pip install gym[box2d]"
      ],
      "id": "w-ssMnFLwBGL"
    },
    {
      "cell_type": "code",
      "execution_count": 3,
      "metadata": {
        "colab": {
          "base_uri": "https://localhost:8080/"
        },
        "id": "_6Aa4QYcHJyg",
        "outputId": "f8e5ba39-b9fb-4d1e-f08f-336783c56afa"
      },
      "outputs": [
        {
          "output_type": "stream",
          "name": "stdout",
          "text": [
            "Looking in indexes: https://pypi.org/simple, https://us-python.pkg.dev/colab-wheels/public/simple/\n",
            "Requirement already satisfied: pygame in /usr/local/lib/python3.7/dist-packages (2.1.0)\n"
          ]
        }
      ],
      "source": [
        "!pip install pygame "
      ],
      "id": "_6Aa4QYcHJyg"
    },
    {
      "cell_type": "code",
      "execution_count": 4,
      "metadata": {
        "id": "PalfR1STod9l"
      },
      "outputs": [],
      "source": [
        "!apt-get install x11-utils > /dev/null 2>&1 \n",
        "!pip install pyglet > /dev/null 2>&1 \n",
        "!apt-get install -y xvfb python-opengl > /dev/null 2>&1"
      ],
      "id": "PalfR1STod9l"
    },
    {
      "cell_type": "code",
      "execution_count": 5,
      "metadata": {
        "id": "5VGE6xRoohpp"
      },
      "outputs": [],
      "source": [
        "!pip install gym pyvirtualdisplay > /dev/null 2>&1"
      ],
      "id": "5VGE6xRoohpp"
    },
    {
      "cell_type": "code",
      "execution_count": 6,
      "metadata": {
        "colab": {
          "base_uri": "https://localhost:8080/"
        },
        "id": "cK1cqZp6NQd_",
        "outputId": "0a744552-014e-44e6-f63e-01b07295ea10"
      },
      "outputs": [
        {
          "output_type": "stream",
          "name": "stdout",
          "text": [
            "Looking in indexes: https://pypi.org/simple, https://us-python.pkg.dev/colab-wheels/public/simple/\n",
            "Collecting stable-baselines3[extra]\n",
            "  Cloning https://github.com/DLR-RM/stable-baselines3 to /tmp/pip-install-lawb4ddm/stable-baselines3_478671dec1914aadb5492bc2ddb7f2f2\n",
            "  Running command git clone -q https://github.com/DLR-RM/stable-baselines3 /tmp/pip-install-lawb4ddm/stable-baselines3_478671dec1914aadb5492bc2ddb7f2f2\n",
            "Collecting gym==0.21\n",
            "  Using cached gym-0.21.0-py3-none-any.whl\n",
            "Requirement already satisfied: numpy in /usr/local/lib/python3.7/dist-packages (from stable-baselines3[extra]) (1.21.6)\n",
            "Collecting torch>=1.11\n",
            "  Downloading torch-1.12.0-cp37-cp37m-manylinux1_x86_64.whl (776.3 MB)\n",
            "\u001b[K     |████████████████████████████████| 776.3 MB 20 kB/s \n",
            "\u001b[?25hRequirement already satisfied: cloudpickle in /usr/local/lib/python3.7/dist-packages (from stable-baselines3[extra]) (1.3.0)\n",
            "Requirement already satisfied: pandas in /usr/local/lib/python3.7/dist-packages (from stable-baselines3[extra]) (1.3.5)\n",
            "Requirement already satisfied: matplotlib in /usr/local/lib/python3.7/dist-packages (from stable-baselines3[extra]) (3.2.2)\n",
            "Requirement already satisfied: opencv-python in /usr/local/lib/python3.7/dist-packages (from stable-baselines3[extra]) (4.6.0.66)\n",
            "Requirement already satisfied: ale-py==0.7.4 in /usr/local/lib/python3.7/dist-packages (from stable-baselines3[extra]) (0.7.4)\n",
            "Requirement already satisfied: autorom[accept-rom-license]~=0.4.2 in /usr/local/lib/python3.7/dist-packages (from stable-baselines3[extra]) (0.4.2)\n",
            "Requirement already satisfied: pillow in /usr/local/lib/python3.7/dist-packages (from stable-baselines3[extra]) (7.1.2)\n",
            "Requirement already satisfied: tensorboard>=2.2.0 in /usr/local/lib/python3.7/dist-packages (from stable-baselines3[extra]) (2.8.0)\n",
            "Requirement already satisfied: protobuf~=3.19.0 in /usr/local/lib/python3.7/dist-packages (from stable-baselines3[extra]) (3.19.4)\n",
            "Requirement already satisfied: psutil in /usr/local/lib/python3.7/dist-packages (from stable-baselines3[extra]) (5.4.8)\n",
            "Requirement already satisfied: importlib-metadata>=4.10.0 in /usr/local/lib/python3.7/dist-packages (from ale-py==0.7.4->stable-baselines3[extra]) (4.12.0)\n",
            "Requirement already satisfied: importlib-resources in /usr/local/lib/python3.7/dist-packages (from ale-py==0.7.4->stable-baselines3[extra]) (5.8.0)\n",
            "Requirement already satisfied: tqdm in /usr/local/lib/python3.7/dist-packages (from autorom[accept-rom-license]~=0.4.2->stable-baselines3[extra]) (4.64.0)\n",
            "Requirement already satisfied: click in /usr/local/lib/python3.7/dist-packages (from autorom[accept-rom-license]~=0.4.2->stable-baselines3[extra]) (7.1.2)\n",
            "Requirement already satisfied: requests in /usr/local/lib/python3.7/dist-packages (from autorom[accept-rom-license]~=0.4.2->stable-baselines3[extra]) (2.23.0)\n",
            "Requirement already satisfied: AutoROM.accept-rom-license in /usr/local/lib/python3.7/dist-packages (from autorom[accept-rom-license]~=0.4.2->stable-baselines3[extra]) (0.4.2)\n",
            "Requirement already satisfied: typing-extensions>=3.6.4 in /usr/local/lib/python3.7/dist-packages (from importlib-metadata>=4.10.0->ale-py==0.7.4->stable-baselines3[extra]) (4.1.1)\n",
            "Requirement already satisfied: zipp>=0.5 in /usr/local/lib/python3.7/dist-packages (from importlib-metadata>=4.10.0->ale-py==0.7.4->stable-baselines3[extra]) (3.8.1)\n",
            "Requirement already satisfied: tensorboard-plugin-wit>=1.6.0 in /usr/local/lib/python3.7/dist-packages (from tensorboard>=2.2.0->stable-baselines3[extra]) (1.8.1)\n",
            "Requirement already satisfied: setuptools>=41.0.0 in /usr/local/lib/python3.7/dist-packages (from tensorboard>=2.2.0->stable-baselines3[extra]) (57.4.0)\n",
            "Requirement already satisfied: google-auth-oauthlib<0.5,>=0.4.1 in /usr/local/lib/python3.7/dist-packages (from tensorboard>=2.2.0->stable-baselines3[extra]) (0.4.6)\n",
            "Requirement already satisfied: tensorboard-data-server<0.7.0,>=0.6.0 in /usr/local/lib/python3.7/dist-packages (from tensorboard>=2.2.0->stable-baselines3[extra]) (0.6.1)\n",
            "Requirement already satisfied: absl-py>=0.4 in /usr/local/lib/python3.7/dist-packages (from tensorboard>=2.2.0->stable-baselines3[extra]) (1.2.0)\n",
            "Requirement already satisfied: google-auth<3,>=1.6.3 in /usr/local/lib/python3.7/dist-packages (from tensorboard>=2.2.0->stable-baselines3[extra]) (1.35.0)\n",
            "Requirement already satisfied: werkzeug>=0.11.15 in /usr/local/lib/python3.7/dist-packages (from tensorboard>=2.2.0->stable-baselines3[extra]) (1.0.1)\n",
            "Requirement already satisfied: markdown>=2.6.8 in /usr/local/lib/python3.7/dist-packages (from tensorboard>=2.2.0->stable-baselines3[extra]) (3.4.1)\n",
            "Requirement already satisfied: wheel>=0.26 in /usr/local/lib/python3.7/dist-packages (from tensorboard>=2.2.0->stable-baselines3[extra]) (0.37.1)\n",
            "Requirement already satisfied: grpcio>=1.24.3 in /usr/local/lib/python3.7/dist-packages (from tensorboard>=2.2.0->stable-baselines3[extra]) (1.47.0)\n",
            "Requirement already satisfied: rsa<5,>=3.1.4 in /usr/local/lib/python3.7/dist-packages (from google-auth<3,>=1.6.3->tensorboard>=2.2.0->stable-baselines3[extra]) (4.9)\n",
            "Requirement already satisfied: six>=1.9.0 in /usr/local/lib/python3.7/dist-packages (from google-auth<3,>=1.6.3->tensorboard>=2.2.0->stable-baselines3[extra]) (1.15.0)\n",
            "Requirement already satisfied: cachetools<5.0,>=2.0.0 in /usr/local/lib/python3.7/dist-packages (from google-auth<3,>=1.6.3->tensorboard>=2.2.0->stable-baselines3[extra]) (4.2.4)\n",
            "Requirement already satisfied: pyasn1-modules>=0.2.1 in /usr/local/lib/python3.7/dist-packages (from google-auth<3,>=1.6.3->tensorboard>=2.2.0->stable-baselines3[extra]) (0.2.8)\n",
            "Requirement already satisfied: requests-oauthlib>=0.7.0 in /usr/local/lib/python3.7/dist-packages (from google-auth-oauthlib<0.5,>=0.4.1->tensorboard>=2.2.0->stable-baselines3[extra]) (1.3.1)\n",
            "Requirement already satisfied: pyasn1<0.5.0,>=0.4.6 in /usr/local/lib/python3.7/dist-packages (from pyasn1-modules>=0.2.1->google-auth<3,>=1.6.3->tensorboard>=2.2.0->stable-baselines3[extra]) (0.4.8)\n",
            "Requirement already satisfied: urllib3!=1.25.0,!=1.25.1,<1.26,>=1.21.1 in /usr/local/lib/python3.7/dist-packages (from requests->autorom[accept-rom-license]~=0.4.2->stable-baselines3[extra]) (1.24.3)\n",
            "Requirement already satisfied: chardet<4,>=3.0.2 in /usr/local/lib/python3.7/dist-packages (from requests->autorom[accept-rom-license]~=0.4.2->stable-baselines3[extra]) (3.0.4)\n",
            "Requirement already satisfied: certifi>=2017.4.17 in /usr/local/lib/python3.7/dist-packages (from requests->autorom[accept-rom-license]~=0.4.2->stable-baselines3[extra]) (2022.6.15)\n",
            "Requirement already satisfied: idna<3,>=2.5 in /usr/local/lib/python3.7/dist-packages (from requests->autorom[accept-rom-license]~=0.4.2->stable-baselines3[extra]) (2.10)\n",
            "Requirement already satisfied: oauthlib>=3.0.0 in /usr/local/lib/python3.7/dist-packages (from requests-oauthlib>=0.7.0->google-auth-oauthlib<0.5,>=0.4.1->tensorboard>=2.2.0->stable-baselines3[extra]) (3.2.0)\n",
            "Requirement already satisfied: cycler>=0.10 in /usr/local/lib/python3.7/dist-packages (from matplotlib->stable-baselines3[extra]) (0.11.0)\n",
            "Requirement already satisfied: kiwisolver>=1.0.1 in /usr/local/lib/python3.7/dist-packages (from matplotlib->stable-baselines3[extra]) (1.4.4)\n",
            "Requirement already satisfied: pyparsing!=2.0.4,!=2.1.2,!=2.1.6,>=2.0.1 in /usr/local/lib/python3.7/dist-packages (from matplotlib->stable-baselines3[extra]) (3.0.9)\n",
            "Requirement already satisfied: python-dateutil>=2.1 in /usr/local/lib/python3.7/dist-packages (from matplotlib->stable-baselines3[extra]) (2.8.2)\n",
            "Requirement already satisfied: pytz>=2017.3 in /usr/local/lib/python3.7/dist-packages (from pandas->stable-baselines3[extra]) (2022.1)\n",
            "Installing collected packages: torch, gym\n",
            "  Attempting uninstall: torch\n",
            "    Found existing installation: torch 1.8.2+cu111\n",
            "    Uninstalling torch-1.8.2+cu111:\n",
            "      Successfully uninstalled torch-1.8.2+cu111\n",
            "  Attempting uninstall: gym\n",
            "    Found existing installation: gym 0.24.1\n",
            "    Uninstalling gym-0.24.1:\n",
            "      Successfully uninstalled gym-0.24.1\n",
            "\u001b[31mERROR: pip's dependency resolver does not currently take into account all the packages that are installed. This behaviour is the source of the following dependency conflicts.\n",
            "torchvision 0.9.2+cu111 requires torch==1.8.2, but you have torch 1.12.0 which is incompatible.\n",
            "torchaudio 0.8.2 requires torch==1.8.2, but you have torch 1.12.0 which is incompatible.\u001b[0m\n",
            "Successfully installed gym-0.21.0 torch-1.12.0\n"
          ]
        }
      ],
      "source": [
        "!pip install git+https://github.com/DLR-RM/stable-baselines3#egg=stable-baselines3[extra]"
      ],
      "id": "cK1cqZp6NQd_"
    },
    {
      "cell_type": "code",
      "source": [
        "!pip install torch==1.8.2 torchvision==0.9.2 torchaudio==0.8.2 --extra-index-url https://download.pytorch.org/whl/lts/1.8/cu111"
      ],
      "metadata": {
        "colab": {
          "base_uri": "https://localhost:8080/"
        },
        "id": "ZUO7jNTs71hw",
        "outputId": "eb61289d-e416-4686-ec20-e410144a2173"
      },
      "id": "ZUO7jNTs71hw",
      "execution_count": 8,
      "outputs": [
        {
          "output_type": "stream",
          "name": "stdout",
          "text": [
            "Looking in indexes: https://pypi.org/simple, https://us-python.pkg.dev/colab-wheels/public/simple/, https://download.pytorch.org/whl/lts/1.8/cu111\n",
            "Collecting torch==1.8.2\n",
            "tcmalloc: large alloc 1982201856 bytes == 0x3ab2000 @  0x7f49a0fca1e7 0x4a3940 0x5b438c 0x5ea94f 0x5939cb 0x594cd3 0x5d0ecb 0x59aeca 0x515655 0x593dd7 0x511e2c 0x593dd7 0x511e2c 0x549e0e 0x4bca8a 0x59c019 0x595ef6 0x5134a6 0x549576 0x4bca8a 0x59c019 0x595ef6 0x5134a6 0x549576 0x4bca8a 0x59c019 0x595ef6 0x5134a6 0x549e0e 0x4bca8a 0x59c019\n",
            "tcmalloc: large alloc 1982201856 bytes == 0x79d12000 @  0x7f49a0fca1e7 0x4a3940 0x5b438c 0x64cfe7 0x59b076 0x515655 0x593dd7 0x511e2c 0x593dd7 0x511e2c 0x549e0e 0x4bca8a 0x59c019 0x595ef6 0x5134a6 0x549576 0x4bca8a 0x59c019 0x595ef6 0x5134a6 0x549576 0x4bca8a 0x59c019 0x595ef6 0x5134a6 0x549e0e 0x4bca8a 0x59c019 0x595ef6 0x5134a6 0x549576\n",
            "tcmalloc: large alloc 1982201856 bytes == 0xeff72000 @  0x7f49a0fca1e7 0x4a3940 0x59b5e2 0x63a515 0x63bd66 0x63be16 0x59afff 0x515655 0x593dd7 0x511e2c 0x549576 0x593fce 0x548ae9 0x5127f1 0x593dd7 0x5118f8 0x593dd7 0x511e2c 0x593dd7 0x511e2c 0x549e0e 0x4bca8a 0x59c019 0x595ef6 0x5134a6 0x549576 0x4bca8a 0x59c019 0x595ef6 0x5134a6 0x549576\n",
            "tcmalloc: large alloc 1982201856 bytes == 0x1661d2000 @  0x7f49a0fca1e7 0x4a3940 0x59b6f0 0x59f499 0x4d3969 0x512147 0x549576 0x593fce 0x511e2c 0x549576 0x593fce 0x511e2c 0x549e0e 0x593fce 0x511e2c 0x549e0e 0x593fce 0x511e2c 0x549e0e 0x593fce 0x511e2c 0x549576 0x593fce 0x548ae9 0x5127f1 0x593dd7 0x5118f8 0x593dd7 0x511e2c 0x593dd7 0x511e2c\n",
            "tcmalloc: large alloc 1982201856 bytes == 0x1dcd10000 @  0x7f49a0fca1e7 0x4a3940 0x5b438c 0x638cb2 0x59644e 0x5946b8 0x515600 0x549e0e 0x593fce 0x511e2c 0x549e0e 0x593fce 0x511e2c 0x549e0e 0x593fce 0x511e2c 0x549576 0x593fce 0x548ae9 0x5127f1 0x593dd7 0x5118f8 0x593dd7 0x511e2c 0x593dd7 0x511e2c 0x549e0e 0x4bca8a 0x59c019 0x595ef6 0x5134a6\n",
            "tcmalloc: large alloc 1982201856 bytes == 0x1dcd10000 @  0x7f49a0fca1e7 0x4a3940 0x5b438c 0x5ea94f 0x5939cb 0x594cd3 0x5d0ecb 0x59aeca 0x515655 0x593dd7 0x511e2c 0x593dd7 0x511e2c 0x549e0e 0x4bca8a 0x59c019 0x595ef6 0x5134a6 0x549576 0x4bca8a 0x59c019 0x595ef6 0x5134a6 0x549576 0x4bca8a 0x59c019 0x595ef6 0x5134a6 0x549e0e 0x4bca8a 0x59c019\n",
            "tcmalloc: large alloc 2477752320 bytes == 0x3ab2000 @  0x7f49a0fcb615 0x592b76 0x4df71e 0x59afff 0x515655 0x549576 0x593fce 0x511e2c 0x549576 0x593fce 0x511e2c 0x549576 0x593fce 0x511e2c 0x549576 0x593fce 0x511e2c 0x549576 0x593fce 0x511e2c 0x593dd7 0x511e2c 0x549576 0x593fce 0x548ae9 0x5127f1 0x549576 0x593fce 0x511e2c 0x549e0e 0x593fce\n",
            "  Using cached https://download.pytorch.org/whl/lts/1.8/cu111/torch-1.8.2%2Bcu111-cp37-cp37m-linux_x86_64.whl (1982.2 MB)\n",
            "Requirement already satisfied: torchvision==0.9.2 in /usr/local/lib/python3.7/dist-packages (0.9.2+cu111)\n",
            "Requirement already satisfied: torchaudio==0.8.2 in /usr/local/lib/python3.7/dist-packages (0.8.2)\n",
            "Requirement already satisfied: numpy in /usr/local/lib/python3.7/dist-packages (from torch==1.8.2) (1.21.6)\n",
            "Requirement already satisfied: typing-extensions in /usr/local/lib/python3.7/dist-packages (from torch==1.8.2) (4.1.1)\n",
            "Requirement already satisfied: pillow>=4.1.1 in /usr/local/lib/python3.7/dist-packages (from torchvision==0.9.2) (7.1.2)\n",
            "Installing collected packages: torch\n",
            "  Attempting uninstall: torch\n",
            "    Found existing installation: torch 1.12.0\n",
            "    Uninstalling torch-1.12.0:\n",
            "      Successfully uninstalled torch-1.12.0\n",
            "\u001b[31mERROR: pip's dependency resolver does not currently take into account all the packages that are installed. This behaviour is the source of the following dependency conflicts.\n",
            "torchtext 0.13.0 requires torch==1.12.0, but you have torch 1.8.2+cu111 which is incompatible.\n",
            "stable-baselines3 1.6.1a0 requires gym==0.21, but you have gym 0.24.1 which is incompatible.\n",
            "stable-baselines3 1.6.1a0 requires torch>=1.11, but you have torch 1.8.2+cu111 which is incompatible.\u001b[0m\n",
            "Successfully installed torch-1.8.2+cu111\n"
          ]
        }
      ]
    },
    {
      "cell_type": "code",
      "execution_count": 7,
      "metadata": {
        "colab": {
          "base_uri": "https://localhost:8080/"
        },
        "id": "CnDihPJ9v2Jo",
        "outputId": "52858708-b8fd-41c8-ba55-a0ab6c2682b4"
      },
      "outputs": [
        {
          "output_type": "stream",
          "name": "stdout",
          "text": [
            "Looking in indexes: https://pypi.org/simple, https://us-python.pkg.dev/colab-wheels/public/simple/\n",
            "Collecting gym==0.24.1\n",
            "  Using cached gym-0.24.1-py3-none-any.whl\n",
            "Requirement already satisfied: importlib-metadata>=4.8.0 in /usr/local/lib/python3.7/dist-packages (from gym==0.24.1) (4.12.0)\n",
            "Requirement already satisfied: numpy>=1.18.0 in /usr/local/lib/python3.7/dist-packages (from gym==0.24.1) (1.21.6)\n",
            "Requirement already satisfied: gym-notices>=0.0.4 in /usr/local/lib/python3.7/dist-packages (from gym==0.24.1) (0.0.7)\n",
            "Requirement already satisfied: cloudpickle>=1.2.0 in /usr/local/lib/python3.7/dist-packages (from gym==0.24.1) (1.3.0)\n",
            "Requirement already satisfied: typing-extensions>=3.6.4 in /usr/local/lib/python3.7/dist-packages (from importlib-metadata>=4.8.0->gym==0.24.1) (4.1.1)\n",
            "Requirement already satisfied: zipp>=0.5 in /usr/local/lib/python3.7/dist-packages (from importlib-metadata>=4.8.0->gym==0.24.1) (3.8.1)\n",
            "Installing collected packages: gym\n",
            "  Attempting uninstall: gym\n",
            "    Found existing installation: gym 0.21.0\n",
            "    Uninstalling gym-0.21.0:\n",
            "      Successfully uninstalled gym-0.21.0\n",
            "\u001b[31mERROR: pip's dependency resolver does not currently take into account all the packages that are installed. This behaviour is the source of the following dependency conflicts.\n",
            "stable-baselines3 1.6.1a0 requires gym==0.21, but you have gym 0.24.1 which is incompatible.\u001b[0m\n",
            "Successfully installed gym-0.24.1\n"
          ]
        }
      ],
      "source": [
        "!pip install gym==0.24.1"
      ],
      "id": "CnDihPJ9v2Jo"
    },
    {
      "cell_type": "code",
      "execution_count": 9,
      "metadata": {
        "colab": {
          "base_uri": "https://localhost:8080/",
          "height": 36
        },
        "id": "645584a5",
        "outputId": "03dfe895-0da8-49cf-b3e3-dbb0cc1450f8"
      },
      "outputs": [
        {
          "output_type": "execute_result",
          "data": {
            "text/plain": [
              "'0.24.1'"
            ],
            "application/vnd.google.colaboratory.intrinsic+json": {
              "type": "string"
            }
          },
          "metadata": {},
          "execution_count": 9
        }
      ],
      "source": [
        "import gym\n",
        "from gym.spaces import Box, Discrete\n",
        "from gym.wrappers import FrameStack\n",
        "from matplotlib import pyplot as plt\n",
        "import os\n",
        "os.environ['SDL_VIDEODRIVER']='dummy'\n",
        "import pygame\n",
        "pygame.display.set_mode((640,480))\n",
        "gym.__version__"
      ],
      "id": "645584a5"
    },
    {
      "cell_type": "code",
      "execution_count": 10,
      "metadata": {
        "id": "ahytC4FJyqXX"
      },
      "outputs": [],
      "source": [
        "import torch\n",
        "from torch import nn\n",
        "from torchvision import transforms as T\n",
        "from PIL import Image\n",
        "from matplotlib import cm\n",
        "import numpy as np\n",
        "from pathlib import Path\n",
        "from collections import deque\n",
        "import random, datetime, copy"
      ],
      "id": "ahytC4FJyqXX"
    },
    {
      "cell_type": "code",
      "execution_count": 11,
      "metadata": {
        "colab": {
          "base_uri": "https://localhost:8080/"
        },
        "id": "rM5Eaq5rLV_w",
        "outputId": "89c58b11-942f-48d3-ce40-7b8a0558393a"
      },
      "outputs": [
        {
          "output_type": "stream",
          "name": "stdout",
          "text": [
            "Drive already mounted at /content/drive; to attempt to forcibly remount, call drive.mount(\"/content/drive\", force_remount=True).\n",
            "/content/drive/MyDrive/SUTD/AI Lab\n"
          ]
        }
      ],
      "source": [
        "# Change working directory\n",
        "from google.colab import drive\n",
        "drive.mount('/content/drive')\n",
        "\n",
        "os.chdir('/content/drive/MyDrive/SUTD/AI Lab')\n",
        "print(os.getcwd())"
      ],
      "id": "rM5Eaq5rLV_w"
    },
    {
      "cell_type": "markdown",
      "metadata": {
        "id": "7ecd1553"
      },
      "source": [
        "# 2. Loading the environment"
      ],
      "id": "7ecd1553"
    },
    {
      "cell_type": "code",
      "execution_count": 12,
      "metadata": {
        "colab": {
          "base_uri": "https://localhost:8080/"
        },
        "id": "8ba5e99c",
        "outputId": "3137746f-77be-48e4-df8e-17b60a2cc91c"
      },
      "outputs": [
        {
          "output_type": "stream",
          "name": "stderr",
          "text": [
            "/usr/local/lib/python3.7/dist-packages/gym/utils/passive_env_checker.py:98: UserWarning: \u001b[33mWARN: We recommend you to use a symmetric and normalized Box action space (range=[-1, 1]) https://stable-baselines3.readthedocs.io/en/master/guide/rl_tips.html\u001b[0m\n",
            "  \"We recommend you to use a symmetric and normalized Box action space (range=[-1, 1]) \"\n"
          ]
        }
      ],
      "source": [
        "env = gym.make('CarRacing-v1')"
      ],
      "id": "8ba5e99c"
    },
    {
      "cell_type": "code",
      "execution_count": 13,
      "metadata": {
        "colab": {
          "base_uri": "https://localhost:8080/"
        },
        "id": "viyv1cMUwrGe",
        "outputId": "e49bdeca-e640-463f-8f0d-2a8c1eb73b8d"
      },
      "outputs": [
        {
          "output_type": "stream",
          "name": "stdout",
          "text": [
            "The observation space: Box(0, 255, (96, 96, 3), uint8)\n",
            "The action space: Box([-1.  0.  0.], 1.0, (3,), float32)\n",
            "The action space is bounded: True\n",
            "The action space Upper Bound: [1. 1. 1.]\n",
            "The action space Lower Bound: [-1.  0.  0.]\n"
          ]
        }
      ],
      "source": [
        "obs_space = env.observation_space\n",
        "action_space = env.action_space\n",
        "print(\"The observation space: {}\".format(obs_space))\n",
        "print(\"The action space: {}\".format(action_space))\n",
        "print(\"The action space is bounded: {}\".format(action_space.is_bounded()))\n",
        "print(\"The action space Upper Bound: {}\".format(action_space.high))\n",
        "print(\"The action space Lower Bound: {}\".format(action_space.low))"
      ],
      "id": "viyv1cMUwrGe"
    },
    {
      "cell_type": "code",
      "execution_count": 14,
      "metadata": {
        "colab": {
          "base_uri": "https://localhost:8080/",
          "height": 0
        },
        "id": "_CedyBOiHR9o",
        "outputId": "ec68fba9-f65c-4c17-dcb7-a9ddd2c9cc46"
      },
      "outputs": [
        {
          "output_type": "display_data",
          "data": {
            "text/plain": [
              "<Figure size 432x288 with 1 Axes>"
            ],
            "image/png": "[encoded data removed]"
          },
          "metadata": {
            "needs_background": "light"
          }
        }
      ],
      "source": [
        "#Lets take a look at our environment\n",
        "obs = env.reset()\n",
        "plt.imshow(obs[:-12], interpolation='nearest')\n",
        "plt.show()"
      ],
      "id": "_CedyBOiHR9o"
    },
    {
      "cell_type": "code",
      "execution_count": 15,
      "metadata": {
        "colab": {
          "base_uri": "https://localhost:8080/",
          "height": 0
        },
        "id": "2EsQyLMJHchy",
        "outputId": "562532e6-42e2-4b02-e574-0124e17b37bf"
      },
      "outputs": [
        {
          "output_type": "stream",
          "name": "stdout",
          "text": [
            "[-0.800846    0.65822065  0.72694904]\n",
            "5.960606060606061 False {}\n"
          ]
        },
        {
          "output_type": "display_data",
          "data": {
            "text/plain": [
              "<Figure size 360x360 with 1 Axes>"
            ],
            "image/png": "[encoded data removed]"
          },
          "metadata": {
            "needs_background": "light"
          }
        }
      ],
      "source": [
        "# Sample a random action from the entire action space\n",
        "random_action = env.action_space.sample()\n",
        "print(random_action)\n",
        "# Take the action and get the new observation space\n",
        "new_obs, reward, done, info = env.step(random_action)\n",
        "print(reward, done, info)\n",
        "plt.figure(figsize=(5,5))\n",
        "plt.imshow(new_obs[:-12], interpolation='nearest')\n",
        "plt.show()"
      ],
      "id": "2EsQyLMJHchy"
    },
    {
      "cell_type": "markdown",
      "metadata": {
        "id": "5CvmuXTbIawA"
      },
      "source": [
        "# 3. Wrappers"
      ],
      "id": "5CvmuXTbIawA"
    },
    {
      "cell_type": "markdown",
      "metadata": {
        "id": "6Dc3wPRgIiqK"
      },
      "source": [
        "## Observation Wrappers"
      ],
      "id": "6Dc3wPRgIiqK"
    },
    {
      "cell_type": "code",
      "execution_count": 28,
      "metadata": {
        "id": "ZUkIevZ27x_y"
      },
      "outputs": [],
      "source": [
        "import cv2\n",
        "class GrayScaleObservation(gym.ObservationWrapper):\n",
        "    def __init__(self, env):\n",
        "        super().__init__(env)\n",
        "        obs_shape = self.observation_space.shape[:2]\n",
        "        self.observation_space = Box(low=0, high=255, shape=obs_shape, dtype=np.uint8)\n",
        "\n",
        "    def permute_orientation(self, observation):\n",
        "        # permute [H, W, C] array to [C, H, W] tensor\n",
        "        observation = np.transpose(observation, (2, 0, 1))\n",
        "        observation = torch.tensor(observation.copy(), dtype=torch.float)\n",
        "        return observation\n",
        "\n",
        "    def observation(self, observation):\n",
        "        # observation = self.permute_orientation(observation)\n",
        "        transform = T.Grayscale()\n",
        "        observation = transform(observation)\n",
        "        return observation\n",
        "\n",
        "# class ObservationWrapper(gym.ObservationWrapper):\n",
        "#     def __init__(self, env):\n",
        "#         super().__init__(env)\n",
        "    \n",
        "#     def observation(self, obs):\n",
        "#         # Normalise observation by 255\n",
        "#         return obs / 255.0\n",
        "\n",
        "class ObservationWrappers(gym.ObservationWrapper):\n",
        "    def __init__(self, env):\n",
        "        super().__init__(env)\n",
        "        obs_shape = self.observation_space.shape[:2]\n",
        "        self.observation_space = Box(low=0, high=255, shape=obs_shape, dtype=np.uint8)\n",
        "        self.frames = []\n",
        "\n",
        "    def permute_orientation(self, observation):\n",
        "        # permute [H, W, C] array to [C, H, W] tensor\n",
        "        observation = np.transpose(observation, (2, 0, 1))\n",
        "        observation = torch.tensor(observation.copy(), dtype=torch.float)\n",
        "        return observation\n",
        "\n",
        "    def blur_image(self, observation):\n",
        "        blur = cv2.GaussianBlur(observation, (5, 5), 0)\n",
        "        return blur\n",
        "\n",
        "    def observation(self, observation):\n",
        "        cropped = observation[:-12]\n",
        "        cropped = cv2.copyMakeBorder(cropped, 0, 12, 0, 0, cv2.BORDER_CONSTANT, value=[0, 0, 0])\n",
        "        gray = cv2.cvtColor(cropped, cv2.COLOR_RGB2GRAY)\n",
        "        blur = self.blur_image(gray)\n",
        "        canny = self.canny_edge_detector(blur)\n",
        "\n",
        "        self.frames.append(canny)\n",
        "        return canny\n",
        "\n",
        "    def canny_edge_detector(self, observation):\n",
        "        canny = cv2.Canny(observation, 50, 150)\n",
        "        return canny\n",
        "\n",
        "    def generate_video(self):\n",
        "        print(\"generating video\")\n",
        "        fourcc = cv2.VideoWriter_fourcc(\"M\", \"J\", \"P\", \"G\")\n",
        "        self.video = cv2.VideoWriter(\"./video.avi\", fourcc, 20, (17, 49))\n",
        "\n",
        "        for i in range(len(self.frames)):\n",
        "            self.video.write(self.frames[i])\n",
        "        self.video.release()\n",
        "\n",
        "class ResizeObservation(gym.ObservationWrapper):\n",
        "    def __init__(self, env, shape):\n",
        "        super().__init__(env)\n",
        "        if isinstance(shape, int):\n",
        "            self.shape = (shape, shape)\n",
        "        else:\n",
        "            self.shape = tuple(shape)\n",
        "\n",
        "        obs_shape = self.shape + self.observation_space.shape[2:]\n",
        "        self.observation_space = Box(low=0, high=255, shape=obs_shape, dtype=np.uint8)\n",
        "\n",
        "    def permute_orientation(self, observation):\n",
        "        # permute [H, W, C] array to [C, H, W] tensor\n",
        "        observation = np.transpose(observation, (2, 0, 1))\n",
        "        observation = torch.tensor(observation.copy(), dtype=torch.float)\n",
        "        return observation\n",
        "\n",
        "    def observation(self, observation):\n",
        "        transforms = T.Compose(\n",
        "            [T.Resize(self.shape), T.Normalize(0, 255)]\n",
        "        )\n",
        "        observation = self.permute_orientation(observation)\n",
        "        observation = transforms(observation).squeeze(0)\n",
        "        return observation"
      ],
      "id": "ZUkIevZ27x_y"
    },
    {
      "cell_type": "markdown",
      "metadata": {
        "id": "jjxOxam1mL8F"
      },
      "source": [
        "### Example of using observation wrappers"
      ],
      "id": "jjxOxam1mL8F"
    },
    {
      "cell_type": "code",
      "execution_count": 27,
      "metadata": {
        "colab": {
          "base_uri": "https://localhost:8080/",
          "height": 0
        },
        "id": "DXhSleiUhHcT",
        "outputId": "17b3eedb-c4f3-40c3-ce8e-3f963b4ca151"
      },
      "outputs": [
        {
          "output_type": "stream",
          "name": "stderr",
          "text": [
            "/usr/local/lib/python3.7/dist-packages/gym/utils/passive_env_checker.py:98: UserWarning: \u001b[33mWARN: We recommend you to use a symmetric and normalized Box action space (range=[-1, 1]) https://stable-baselines3.readthedocs.io/en/master/guide/rl_tips.html\u001b[0m\n",
            "  \"We recommend you to use a symmetric and normalized Box action space (range=[-1, 1]) \"\n"
          ]
        },
        {
          "output_type": "stream",
          "name": "stdout",
          "text": [
            "[0.5711415  0.16243146 0.6468535 ]\n",
            "6.702721088435374 False {}\n"
          ]
        },
        {
          "output_type": "display_data",
          "data": {
            "text/plain": [
              "<Figure size 360x360 with 1 Axes>"
            ],
            "image/png": "[encoded data removed]"
          },
          "metadata": {
            "needs_background": "light"
          }
        }
      ],
      "source": [
        "env = gym.make('CarRacing-v1')\n",
        "env.reset()\n",
        "env = GrayScaleObservation(ResizeObservation(env, (80,80)))\n",
        "\n",
        "random_action = env.action_space.sample()\n",
        "print(random_action)\n",
        "# Take the action and get the new observation space\n",
        "new_obs, reward, done, info = env.step(random_action)\n",
        "\n",
        "print(reward, done, info)\n",
        "plt.figure(figsize=(5,5))\n",
        "plt.imshow(new_obs[0,:,:][:-12], cmap='gray',interpolation='nearest')\n",
        "plt.show()"
      ],
      "id": "DXhSleiUhHcT"
    },
    {
      "cell_type": "markdown",
      "metadata": {
        "id": "a6RMgia6I_Gx"
      },
      "source": [
        "## Reward Wrappers"
      ],
      "id": "a6RMgia6I_Gx"
    },
    {
      "cell_type": "code",
      "execution_count": 29,
      "metadata": {
        "id": "NyReEkbdzUGo"
      },
      "outputs": [],
      "source": [
        "class RewardWrapper(gym.RewardWrapper):\n",
        "    def __init__(self, env):\n",
        "        super().__init__(env)\n",
        "\n",
        "    def reward(self, reward):\n",
        "        return np.clip(reward, a_min=-1.0, a_max=1.0) # from https://notanymike.github.io/Solving-CarRacing/"
      ],
      "id": "NyReEkbdzUGo"
    },
    {
      "cell_type": "markdown",
      "metadata": {
        "id": "WLoX0swbJBNI"
      },
      "source": [
        "## Action Wrappers\n",
        "Map actions to discrete spaces.\n",
        "\n",
        "Reason: Suppose you want to train a (D)DQN agent for an environment with continuous actions. Since DQN implementations typically expect to produce a single discrete action, the action space has to both be discretized and flattened."
      ],
      "id": "WLoX0swbJBNI"
    },
    {
      "cell_type": "code",
      "execution_count": 30,
      "metadata": {
        "id": "F2AHGTrV8fpS"
      },
      "outputs": [],
      "source": [
        "class ActionWrapper(gym.ActionWrapper):\n",
        "    def __init__(self, env):\n",
        "        super().__init__(env)\n",
        "    \n",
        "    def action(self, act):\n",
        "        print(act)\n",
        "        return act\n",
        "\n",
        "# class DiscreteWrapper(gym.Wrapper):\n",
        "#     def __init__(self, env):\n",
        "#         super().__init__(env)\n",
        "#         self.env = env\n",
        "#         self.__actions__ = [(-1, 0.2, 0.), (0, 0.2, 0.), (1, 0.2, 0.),\n",
        "#                             (-1, 0.5, 0.), (0, 0.5, 0.), (1, 0.5, 0.), #           Action Space Structure\n",
        "#                             (-1, 1,   0), (0, 1,   0), (1, 1,   0), #        (Steering Wheel, Gas, Break)\n",
        "#                             (-1, 0, 0.8), (0, 0, 0.8), (1, 0, 0.8), # Range        -1~1       0~1   0~1\n",
        "#                             (-1, 0, 0.3), (0, 0, 0.3), (1, 0, 0.3),\n",
        "#                             (-1, 0,   0), (0, 0,   0), (1, 0,   0)]\n",
        "\n",
        "        \n",
        "#         self.action_space = Discrete(len(self.__actions__)-1)\n",
        "        \n",
        "#     def step(self, action):\n",
        "#         # print(action)\n",
        "#         next_state, reward, done, info = self.env.step(self.__actions__[action])\n",
        "#         # modify ...\n",
        "#         return next_state, reward, done, info\n",
        "\n",
        "class DiscreteWrapper(gym.Wrapper):\n",
        "    def __init__(self, env):\n",
        "        super().__init__(env)\n",
        "        self.env = env\n",
        "        self.__actions__ = [(-1, 0.5, 0.), (0, 0.5, 0.), (1, 0.5, 0.), #           Action Space Structure\n",
        "                            (-1, 1,   0), (0, 1,   0), (1, 1,   0), #        (Steering Wheel, Gas, Break)\n",
        "                            (-1, 0, 0.8), (0, 0, 0.8), (1, 0, 0.8), # Range        -1~1       0~1   0~1,\n",
        "                            (-1, 0,   0)]\n",
        "\n",
        "        \n",
        "        self.action_space = Discrete(len(self.__actions__)-1)\n",
        "        \n",
        "    def step(self, action):\n",
        "        # print(action)\n",
        "        next_state, reward, done, info = self.env.step(self.__actions__[action])\n",
        "        # modify ...\n",
        "        return next_state, reward, done, info"
      ],
      "id": "F2AHGTrV8fpS"
    },
    {
      "cell_type": "markdown",
      "metadata": {
        "id": "pHK_kIdtnOJK"
      },
      "source": [
        "### Example of using action wrappers"
      ],
      "id": "pHK_kIdtnOJK"
    },
    {
      "cell_type": "code",
      "execution_count": 30,
      "metadata": {
        "colab": {
          "base_uri": "https://localhost:8080/",
          "height": 384
        },
        "id": "_VdYUNO-mRzl",
        "outputId": "4b86b4f3-8d7b-47ba-e11f-a972ca25a366"
      },
      "outputs": [
        {
          "output_type": "stream",
          "name": "stdout",
          "text": [
            "9\n",
            "6.8204152249134955 False {}\n"
          ]
        },
        {
          "output_type": "stream",
          "name": "stderr",
          "text": [
            "/usr/local/lib/python3.7/dist-packages/gym/utils/passive_env_checker.py:98: UserWarning: \u001b[33mWARN: We recommend you to use a symmetric and normalized Box action space (range=[-1, 1]) https://stable-baselines3.readthedocs.io/en/master/guide/rl_tips.html\u001b[0m\n",
            "  \"We recommend you to use a symmetric and normalized Box action space (range=[-1, 1]) \"\n"
          ]
        },
        {
          "output_type": "display_data",
          "data": {
            "text/plain": [
              "<Figure size 360x360 with 1 Axes>"
            ],
            "image/png": "[encoded data removed]"
          },
          "metadata": {
            "needs_background": "light"
          }
        }
      ],
      "source": [
        "env = gym.make('CarRacing-v1')\n",
        "env.reset()\n",
        "env = DiscreteWrapper(env)\n",
        "\n",
        "random_action = env.action_space.sample()\n",
        "print(random_action)\n",
        "# Take the action and get the new observation space\n",
        "new_obs, reward, done, info = env.step(random_action)\n",
        "\n",
        "print(reward, done, info)\n",
        "plt.figure(figsize=(5,5))\n",
        "plt.imshow(new_obs[:-12], cmap='gray',interpolation='nearest')\n",
        "plt.show()"
      ],
      "id": "_VdYUNO-mRzl"
    },
    {
      "cell_type": "markdown",
      "metadata": {
        "id": "5ibJbFlbJDA4"
      },
      "source": [
        "## Other Wrappers"
      ],
      "id": "5ibJbFlbJDA4"
    },
    {
      "cell_type": "code",
      "execution_count": 31,
      "metadata": {
        "id": "SreyD9OoJFv4"
      },
      "outputs": [],
      "source": [
        "class SkipFrame(gym.Wrapper):\n",
        "    def __init__(self, env, skip):\n",
        "        \"\"\"Return only every `skip`-th frame\"\"\"\n",
        "        super().__init__(env)\n",
        "        self._skip = skip\n",
        "\n",
        "    def step(self, action):\n",
        "        \"\"\"Repeat action, and sum reward\"\"\"\n",
        "        total_reward = 0.0\n",
        "        done = False\n",
        "        for i in range(self._skip):\n",
        "            # Accumulate reward and repeat the same action\n",
        "            obs, reward, done, info = self.env.step(action)\n",
        "            total_reward += reward\n",
        "            if done:\n",
        "                break\n",
        "        return obs, total_reward, done, info"
      ],
      "id": "SreyD9OoJFv4"
    },
    {
      "cell_type": "markdown",
      "metadata": {
        "id": "KTmm2bVlJ-FT"
      },
      "source": [
        "**Vectorized Environments** are a method for stacking multiple independent environments into a single environment. **Instead of training an RL agent on 1 environment per step**, it allows us to **train it on n environments per step**. Because of this, actions passed to the environment are now a vector (of dimension n). It is the same for observations, rewards and end of episode signals (dones). In the case of non-array observation spaces such as Dict or Tuple, where different sub-spaces may have different shapes, the sub-observations are vectors (of dimension n)."
      ],
      "id": "KTmm2bVlJ-FT"
    },
    {
      "cell_type": "code",
      "execution_count": 32,
      "metadata": {
        "id": "qmvFjCs3MrqZ"
      },
      "outputs": [],
      "source": [
        "class VectorizedEnvWrapper(gym.Wrapper):\n",
        "    def __init__(self, make_env, num_envs=1):\n",
        "        super().__init__(make_env())\n",
        "        self.num_envs = num_envs\n",
        "        self.envs = [make_env() for env_index in range(num_envs)]\n",
        "    \n",
        "    def reset(self):\n",
        "        return np.asarray([env.reset() for env in self.envs])\n",
        "    \n",
        "    def reset_at(self, env_index):\n",
        "        return self.envs[env_index].reset()\n",
        "    \n",
        "    def step(self, actions):\n",
        "        next_states, rewards, dones, infos = [], [], [], []\n",
        "        for env, action in zip(self.envs, actions):\n",
        "            next_state, reward, done, info = env.step(action)\n",
        "            next_states.append(next_state)\n",
        "            rewards.append(reward)\n",
        "            dones.append(done)\n",
        "            infos.append(info)\n",
        "        return np.asarray(next_states), np.asarray(rewards), \\\n",
        "            np.asarray(dones), np.asarray(infos)"
      ],
      "id": "qmvFjCs3MrqZ"
    },
    {
      "cell_type": "markdown",
      "metadata": {
        "id": "uXffM6minS61"
      },
      "source": [
        "### Example of using Vec Env"
      ],
      "id": "uXffM6minS61"
    },
    {
      "cell_type": "code",
      "execution_count": 33,
      "metadata": {
        "colab": {
          "base_uri": "https://localhost:8080/",
          "height": 0
        },
        "id": "VFsiWI4CJmDB",
        "outputId": "cac95b42-5ee6-468d-f4bf-e5d5c9c223fb"
      },
      "outputs": [
        {
          "output_type": "stream",
          "name": "stderr",
          "text": [
            "/usr/local/lib/python3.7/dist-packages/gym/utils/passive_env_checker.py:98: UserWarning: \u001b[33mWARN: We recommend you to use a symmetric and normalized Box action space (range=[-1, 1]) https://stable-baselines3.readthedocs.io/en/master/guide/rl_tips.html\u001b[0m\n",
            "  \"We recommend you to use a symmetric and normalized Box action space (range=[-1, 1]) \"\n"
          ]
        },
        {
          "output_type": "stream",
          "name": "stdout",
          "text": [
            "(3, 96, 96, 3)\n",
            "(3,)\n",
            "(3,)\n"
          ]
        },
        {
          "output_type": "display_data",
          "data": {
            "text/plain": [
              "<Figure size 360x360 with 1 Axes>"
            ],
            "image/png": "[encoded data removed]"
          },
          "metadata": {
            "needs_background": "light"
          }
        },
        {
          "output_type": "display_data",
          "data": {
            "text/plain": [
              "<Figure size 360x360 with 1 Axes>"
            ],
            "image/png": "[encoded data removed]"
          },
          "metadata": {
            "needs_background": "light"
          }
        },
        {
          "output_type": "display_data",
          "data": {
            "text/plain": [
              "<Figure size 360x360 with 1 Axes>"
            ],
            "image/png": "[encoded data removed]"
          },
          "metadata": {
            "needs_background": "light"
          }
        }
      ],
      "source": [
        "# Example on how Vec Env is used Vec Env\n",
        "env = VectorizedEnvWrapper(lambda: gym.make('CarRacing-v1'), 3)\n",
        "\n",
        "T = 10\n",
        "observations = env.reset()\n",
        "for t in range(T):\n",
        "    actions = []\n",
        "    for i in range(3):\n",
        "      actions.append(env.action_space.sample())\n",
        "\n",
        "    observations, rewards, dones, infos = env.step(actions)  \n",
        "    for i in range(len(dones)):\n",
        "        if dones[i]:\n",
        "            observations[i] = env.reset_at(i)\n",
        "print(observations.shape)\n",
        "print(rewards.shape)\n",
        "print(dones.shape)\n",
        "\n",
        "for i in observations:\n",
        "  plt.figure(figsize=(5,5))\n",
        "  plt.imshow(i[:-12], interpolation='nearest')\n",
        "  plt.show()"
      ],
      "id": "VFsiWI4CJmDB"
    },
    {
      "cell_type": "markdown",
      "metadata": {
        "id": "DlBu22Zgcr4f"
      },
      "source": [
        "## Customised env make"
      ],
      "id": "DlBu22Zgcr4f"
    },
    {
      "cell_type": "code",
      "source": [
        "from stable_baselines3.common.vec_env.subproc_vec_env import SubprocVecEnv\n",
        "from stable_baselines3.common.vec_env.vec_normalize import VecNormalize\n",
        "from stable_baselines3.common.env_util import make_vec_env\n",
        "from stable_baselines3.common.utils import set_random_seed\n",
        "\n",
        "def make_vec_env(env_id, rank, seed=0):\n",
        "    def _init():\n",
        "        env = gym.make(env_id)\n",
        "        env.seed(seed + rank)\n",
        "        env = SkipFrame(env, 2)\n",
        "        env = ObservationWrappers(env)\n",
        "        env = DiscreteWrapper(env) #discretize actions\n",
        "        return env\n",
        "\n",
        "    set_random_seed(seed)\n",
        "    return _init"
      ],
      "metadata": {
        "id": "qsDmfRVVxUav"
      },
      "id": "qsDmfRVVxUav",
      "execution_count": 20,
      "outputs": []
    },
    {
      "cell_type": "code",
      "execution_count": 21,
      "metadata": {
        "id": "mfn6Ednbcv_S"
      },
      "outputs": [],
      "source": [
        "def env_make():\n",
        "    env = gym.make('CarRacing-v1')\n",
        "    env = SkipFrame(env, 2)\n",
        "    env = ObservationWrappers(env)\n",
        "    env = DiscreteWrapper(env) #discretize actions\n",
        "    # env = FrameStack(env, num_stack=2)\n",
        "    return env"
      ],
      "id": "mfn6Ednbcv_S"
    },
    {
      "cell_type": "markdown",
      "metadata": {
        "id": "77035e11"
      },
      "source": [
        "# Train an RL Model"
      ],
      "id": "77035e11"
    },
    {
      "cell_type": "code",
      "source": [
        "from stable_baselines3.common.callbacks import BaseCallback\n",
        "from stable_baselines3.common.results_plotter import load_results, ts2xy\n",
        "class SaveOnBestTrainingRewardCallback(BaseCallback):\n",
        "    \"\"\"\n",
        "    Callback for saving a model (the check is done every ``check_freq`` steps)\n",
        "    based on the training reward (in practice, we recommend using ``EvalCallback``).\n",
        "\n",
        "    :param check_freq: (int)\n",
        "    :param log_dir: (str) Path to the folder where the model will be saved.\n",
        "      It must contains the file created by the ``Monitor`` wrapper.\n",
        "    :param verbose: (int)\n",
        "    \"\"\"\n",
        "    def __init__(self, check_freq: int, log_dir: str, verbose=1):\n",
        "        super(SaveOnBestTrainingRewardCallback, self).__init__(verbose)\n",
        "        self.check_freq = check_freq\n",
        "        self.log_dir = log_dir\n",
        "        self.save_path = os.path.join(log_dir, 'best_model')\n",
        "        self.best_mean_reward = -np.inf\n",
        "\n",
        "    def _init_callback(self) -> None:\n",
        "        # Create folder if needed\n",
        "        if self.save_path is not None:\n",
        "            os.makedirs(self.save_path, exist_ok=True)\n",
        "\n",
        "    def _on_step(self) -> bool:\n",
        "        if self.n_calls % self.check_freq == 0:\n",
        "\n",
        "          # Retrieve training reward\n",
        "          x, y = ts2xy(load_results(self.log_dir), 'timesteps')\n",
        "          if len(x) > 0:\n",
        "              # Mean training reward over the last 100 episodes\n",
        "              mean_reward = np.mean(y[-100:])\n",
        "              if self.verbose > 0:\n",
        "                print(\"Num timesteps: {}\".format(self.num_timesteps))\n",
        "                print(\"Best mean reward: {:.2f} - Last mean reward per episode: {:.2f}\".format(self.best_mean_reward, mean_reward))\n",
        "\n",
        "              # New best model, you could save the agent here\n",
        "              if mean_reward > self.best_mean_reward:\n",
        "                  self.best_mean_reward = mean_reward\n",
        "                  # Example for saving best model\n",
        "                  if self.verbose > 0:\n",
        "                    print(\"Saving new best model to {}\".format(self.save_path))\n",
        "                  self.model.save(self.save_path)\n",
        "\n",
        "        return True"
      ],
      "metadata": {
        "id": "hWNCio3UEZGu"
      },
      "id": "hWNCio3UEZGu",
      "execution_count": null,
      "outputs": []
    },
    {
      "cell_type": "code",
      "execution_count": 22,
      "metadata": {
        "colab": {
          "base_uri": "https://localhost:8080/"
        },
        "id": "5aa17423",
        "outputId": "a0782072-1f5f-4b44-8171-9998f15730ab"
      },
      "outputs": [
        {
          "output_type": "stream",
          "name": "stderr",
          "text": [
            "/usr/local/lib/python3.7/dist-packages/gym/utils/passive_env_checker.py:98: UserWarning: \u001b[33mWARN: We recommend you to use a symmetric and normalized Box action space (range=[-1, 1]) https://stable-baselines3.readthedocs.io/en/master/guide/rl_tips.html\u001b[0m\n",
            "  \"We recommend you to use a symmetric and normalized Box action space (range=[-1, 1]) \"\n"
          ]
        },
        {
          "output_type": "stream",
          "name": "stdout",
          "text": [
            "Using cuda device\n"
          ]
        }
      ],
      "source": [
        "from stable_baselines3 import DQN\n",
        "from stable_baselines3.common.evaluation import evaluate_policy\n",
        "env = env_make()\n",
        "env = SubprocVecEnv([make_vec_env(\"CarRacing-v1\", i) for i in range(4)])\n",
        "env = VecNormalize(env, norm_obs=True, norm_reward=True, clip_obs=10.0)\n",
        "\n",
        "model = DQN(\"MlpPolicy\",\n",
        "            env,\n",
        "            verbose=1,\n",
        "            train_freq=16,\n",
        "            gradient_steps=8,\n",
        "            gamma=0.99,\n",
        "            exploration_fraction=0.2,\n",
        "            exploration_final_eps=0.07,\n",
        "            target_update_interval=600,\n",
        "            learning_starts=1000,\n",
        "            buffer_size=10000,\n",
        "            batch_size=128,\n",
        "            learning_rate=4e-3,\n",
        "            policy_kwargs=dict(net_arch=[256, 256]),\n",
        "            seed=2,\n",
        "            tensorboard_log=\"logs/dqn_felice\",\n",
        "            callback = SaveOnBestTrainingRewardCallback(check_freq=1000, log_dir=\"logs/dqn_felice\"))"
      ],
      "id": "5aa17423"
    },
    {
      "cell_type": "code",
      "execution_count": null,
      "metadata": {
        "id": "544cb8ed"
      },
      "outputs": [],
      "source": [
        "models_dir = \"./DQN\"\n",
        "if not os.path.exists(models_dir):\n",
        "    os.makedirs(models_dir)\n",
        "\n",
        "TIMESTEPS = 20000 # The number of env steps for each epoch\n",
        "epochs = 100  # Number of training iterations\n",
        "\n",
        "for i in range(1,epochs):\n",
        "  model.learn(total_timesteps=TIMESTEPS,reset_num_timesteps=False,tb_log_name=\"DQN Wrapped\",)\n",
        "  model.save(f\"{models_dir}/{TIMESTEPS*i}\")"
      ],
      "id": "544cb8ed"
    },
    {
      "cell_type": "markdown",
      "metadata": {
        "id": "a69d8565"
      },
      "source": [
        "# 4. Save and Reload Model"
      ],
      "id": "a69d8565"
    },
    {
      "cell_type": "code",
      "execution_count": 38,
      "metadata": {
        "id": "NLceezvbRabT"
      },
      "outputs": [],
      "source": [
        "model.save(f\"{models_dir}/{TIMESTEPS*19}\")"
      ],
      "id": "NLceezvbRabT"
    },
    {
      "cell_type": "code",
      "source": [
        "print(f\"{models_dir}/{TIMESTEPS*18}.zip\")"
      ],
      "metadata": {
        "colab": {
          "base_uri": "https://localhost:8080/"
        },
        "id": "uAotSlyV5gaP",
        "outputId": "f56f8897-48be-49a9-f0fa-d6d8c4470d28"
      },
      "id": "uAotSlyV5gaP",
      "execution_count": 51,
      "outputs": [
        {
          "output_type": "stream",
          "name": "stdout",
          "text": [
            "./DQN/190000.zip\n"
          ]
        }
      ]
    },
    {
      "cell_type": "code",
      "execution_count": 25,
      "metadata": {
        "colab": {
          "base_uri": "https://localhost:8080/"
        },
        "id": "cdff3ff4",
        "outputId": "a40f8f05-416e-418f-bd4c-21018a30f4b4"
      },
      "outputs": [
        {
          "output_type": "stream",
          "name": "stderr",
          "text": [
            "/usr/local/lib/python3.7/dist-packages/gym/utils/passive_env_checker.py:98: UserWarning: \u001b[33mWARN: We recommend you to use a symmetric and normalized Box action space (range=[-1, 1]) https://stable-baselines3.readthedocs.io/en/master/guide/rl_tips.html\u001b[0m\n",
            "  \"We recommend you to use a symmetric and normalized Box action space (range=[-1, 1]) \"\n"
          ]
        },
        {
          "output_type": "stream",
          "name": "stdout",
          "text": [
            "Wrapping the env with a `Monitor` wrapper\n",
            "Wrapping the env in a DummyVecEnv.\n"
          ]
        },
        {
          "output_type": "stream",
          "name": "stderr",
          "text": [
            "/usr/local/lib/python3.7/dist-packages/gym/core.py:201: DeprecationWarning: \u001b[33mWARN: Function `env.seed(seed)` is marked as deprecated and will be removed in the future. Please use `env.reset(seed=seed)` instead.\u001b[0m\n",
            "  \"Function `env.seed(seed)` is marked as deprecated and will be removed in the future. \"\n"
          ]
        }
      ],
      "source": [
        "models_dir = \"./DQN\"\n",
        "TIMESTEPS = 20000\n",
        "env = env_make()\n",
        "obs = env.reset()\n",
        "model = DQN.load(f\"{models_dir}/{TIMESTEPS*18}.zip\", env=env)"
      ],
      "id": "cdff3ff4"
    },
    {
      "cell_type": "code",
      "execution_count": null,
      "metadata": {
        "id": "84b2d8e4"
      },
      "outputs": [],
      "source": [
        "model.learn(total_timesteps=20000)"
      ],
      "id": "84b2d8e4"
    },
    {
      "cell_type": "code",
      "source": [
        "import imageio\n",
        "print(\"loading model...\")\n",
        "obs = env.reset()\n",
        "img = env.render(mode=\"rgb_array\")\n",
        "model = DQN.load(f\"{models_dir}/{TIMESTEPS*18}.zip\", env=env)\n",
        "print(\"model successfully loaded!\")\n",
        "mean_reward, std_reward = evaluate_policy(\n",
        "    model, model.get_env(), n_eval_episodes=10\n",
        ")\n",
        "print(f\"Mean reward: {mean_reward}\")\n",
        "print(f\"Std dev reward: {std_reward}\")\n",
        "\n",
        "images = []\n",
        "print(\"Beginning episodic iteration\")\n",
        "for i in range(3000):\n",
        "    images.append(img)\n",
        "    action, _ = model.predict(obs)\n",
        "    obs, _, _, _ = env.step(action)\n",
        "    img = env.render(mode=\"rgb_array\")\n",
        "imageio.mimsave(\n",
        "    \"car_dqn_wrapped.gif\",\n",
        "    [np.array(img) for i, img in enumerate(images) if i % 2 == 0],\n",
        "    fps=29,\n",
        ")\n",
        "print(\".gif saved!\")"
      ],
      "metadata": {
        "colab": {
          "base_uri": "https://localhost:8080/"
        },
        "id": "-X7-jIKI1Qgv",
        "outputId": "205a0223-512b-491b-dbc7-8d7b1319fcd7"
      },
      "id": "-X7-jIKI1Qgv",
      "execution_count": 27,
      "outputs": [
        {
          "output_type": "stream",
          "name": "stdout",
          "text": [
            "loading model...\n",
            "Wrapping the env with a `Monitor` wrapper\n",
            "Wrapping the env in a DummyVecEnv.\n"
          ]
        },
        {
          "output_type": "stream",
          "name": "stderr",
          "text": [
            "/usr/local/lib/python3.7/dist-packages/gym/core.py:201: DeprecationWarning: \u001b[33mWARN: Function `env.seed(seed)` is marked as deprecated and will be removed in the future. Please use `env.reset(seed=seed)` instead.\u001b[0m\n",
            "  \"Function `env.seed(seed)` is marked as deprecated and will be removed in the future. \"\n"
          ]
        },
        {
          "output_type": "stream",
          "name": "stdout",
          "text": [
            "model successfully loaded!\n",
            "Mean reward: -91.8893803\n",
            "Std dev reward: 2.6866195018566\n",
            "Beginning episodic iteration\n",
            ".gif saved!\n"
          ]
        }
      ]
    },
    {
      "cell_type": "markdown",
      "metadata": {
        "id": "673249b3"
      },
      "source": [
        "# 5. Evaluation"
      ],
      "id": "673249b3"
    },
    {
      "cell_type": "code",
      "execution_count": null,
      "metadata": {
        "colab": {
          "background_save": true
        },
        "id": "aapDaFqiR8J4"
      },
      "outputs": [],
      "source": [
        "from IPython import display as ipythondisplay\n",
        "from pyvirtualdisplay import Display\n",
        "display = Display(visible=0, size=(400, 300))\n",
        "display.start()\n",
        "\n",
        "# We can review the training performance for 10 episodes\n",
        "num_steps=10\n",
        "prev_screen = env.render(mode='rgb_array')\n",
        "plt.imshow(prev_screen)\n",
        "\n",
        "for ep in range(num_steps):\n",
        "    screen = env.render(mode='rgb_array')\n",
        "    plt.imshow(screen)\n",
        "    ipythondisplay.clear_output(wait=True)\n",
        "    ipythondisplay.display(plt.gcf())\n",
        "\n",
        "    done = False\n",
        "    while not done:\n",
        "        screen = env.render(mode='rgb_array')\n",
        "        plt.imshow(screen)\n",
        "        ipythondisplay.clear_output(wait=True)\n",
        "        ipythondisplay.display(plt.gcf())\n",
        "        obs, reward, done, info = env.step(env.action_space.sample())\n",
        "\n",
        "env.close()"
      ],
      "id": "aapDaFqiR8J4"
    },
    {
      "cell_type": "code",
      "execution_count": null,
      "metadata": {
        "colab": {
          "background_save": true
        },
        "id": "ojs1FYFfUT6R"
      },
      "outputs": [],
      "source": [
        "evaluate_policy(model, env, n_eval_episodes=10, render=True)"
      ],
      "id": "ojs1FYFfUT6R"
    },
    {
      "cell_type": "markdown",
      "metadata": {
        "id": "27371887"
      },
      "source": [
        "# 6. Test Model"
      ],
      "id": "27371887"
    },
    {
      "cell_type": "code",
      "execution_count": null,
      "metadata": {
        "colab": {
          "background_save": true
        },
        "id": "a4682c49"
      },
      "outputs": [],
      "source": [
        "episodes = 5 \n",
        "for episode in range(1, episodes+1):\n",
        "  obs = env.reset()\n",
        "  # gives the initial observation for the environment \n",
        "  \n",
        "  done = False\n",
        "  score = 0\n",
        "\n",
        "  while not done:\n",
        "    env.render()\n",
        "    action , _ = model.predict(obs) # Now USING MODEL HERE!\n",
        "    obs, reward, done, info = env.step(action)\n",
        "    score += reward\n",
        "  print (\"Episode: {} Score: {}\".format(episode, score))\n",
        "\n",
        "env.close()"
      ],
      "id": "a4682c49"
    }
  ],
  "metadata": {
    "accelerator": "GPU",
    "colab": {
      "collapsed_sections": [
        "7ecd1553",
        "jjxOxam1mL8F",
        "a6RMgia6I_Gx",
        "pHK_kIdtnOJK",
        "uXffM6minS61"
      ],
      "name": "car-racing-rl.ipynb",
      "provenance": []
    },
    "gpuClass": "standard",
    "kernelspec": {
      "display_name": "Python 3.8.9 ('rl-tutorial')",
      "language": "python",
      "name": "python3"
    },
    "language_info": {
      "codemirror_mode": {
        "name": "ipython",
        "version": 3
      },
      "file_extension": ".py",
      "mimetype": "text/x-python",
      "name": "python",
      "nbconvert_exporter": "python",
      "pygments_lexer": "ipython3",
      "version": "3.8.9"
    },
    "vscode": {
      "interpreter": {
        "hash": "c19fc06454f64921cb2d8b7ffc90265522756b29ee01f72d99d03fa995c639e7"
      }
    }
  },
  "nbformat": 4,
  "nbformat_minor": 5
}